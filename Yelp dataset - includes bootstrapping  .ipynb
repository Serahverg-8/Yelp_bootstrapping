{
 "cells": [
  {
   "cell_type": "markdown",
   "id": "87a40044",
   "metadata": {},
   "source": [
    "YELP - Prediction"
   ]
  },
  {
   "cell_type": "markdown",
   "id": "4e883e33",
   "metadata": {},
   "source": [
    "#### Each attribute with missing values in our dataset is a categorical feature and, in the subsequent models wetreat (Missing) as an explicit category. "
   ]
  },
  {
   "cell_type": "markdown",
   "id": "27f177b0",
   "metadata": {},
   "source": [
    "a) Creating a missing category may cause the model to train treating missing as a separate category and may give incorrect results.\n",
    "There is a large number of missing values and there are sevaral ways of dealing with categorical missing values. However, certain columns that have >40% missing values need to be dropped as it will not contribute greatly towards building a good model.\n",
    "\n",
    "Simply create a new category for the missing. This will only work when there is an underlying reason for missing.\n",
    "Pros:\n",
    "Less possibilities with one extra category, resulting in low variance after one hot encoding — since it is categorical\n",
    "Negates the loss of data by adding an unique category\n",
    "Cons:\n",
    "Adds less variance\n",
    "Adds another feature to the model while encoding, which may result in poor performance\n",
    "\n",
    "\n",
    "Other methods we can consider: \n",
    "Ignore observation\n",
    "Replace by most frequent value\n",
    "Replace using an algorithm like KNN using the neighbours.\n",
    "Predict the observation using a multiclass predictor."
   ]
  },
  {
   "cell_type": "markdown",
   "id": "330ea07d",
   "metadata": {},
   "source": [
    "### b) Linear Regression model"
   ]
  },
  {
   "cell_type": "code",
   "execution_count": 1,
   "id": "aea97929",
   "metadata": {},
   "outputs": [],
   "source": [
    "import numpy as np\n",
    "import pandas as pd\n",
    "import matplotlib.pyplot as plt\n",
    "from sklearn.metrics import r2_score\n",
    "from sklearn.model_selection import GridSearchCV\n",
    "from sklearn.tree import DecisionTreeRegressor"
   ]
  },
  {
   "cell_type": "code",
   "execution_count": 2,
   "id": "3c5932d3",
   "metadata": {},
   "outputs": [],
   "source": [
    "np.random.seed(10)"
   ]
  },
  {
   "cell_type": "code",
   "execution_count": 3,
   "id": "19798626",
   "metadata": {
    "scrolled": true
   },
   "outputs": [
    {
     "data": {
      "text/html": [
       "<div>\n",
       "<style scoped>\n",
       "    .dataframe tbody tr th:only-of-type {\n",
       "        vertical-align: middle;\n",
       "    }\n",
       "\n",
       "    .dataframe tbody tr th {\n",
       "        vertical-align: top;\n",
       "    }\n",
       "\n",
       "    .dataframe thead th {\n",
       "        text-align: right;\n",
       "    }\n",
       "</style>\n",
       "<table border=\"1\" class=\"dataframe\">\n",
       "  <thead>\n",
       "    <tr style=\"text-align: right;\">\n",
       "      <th></th>\n",
       "      <th>stars</th>\n",
       "      <th>review_count</th>\n",
       "      <th>GoodForKids</th>\n",
       "      <th>Alcohol</th>\n",
       "      <th>BusinessAcceptsCreditCards</th>\n",
       "      <th>WiFi</th>\n",
       "      <th>BikeParking</th>\n",
       "      <th>ByAppointmentOnly</th>\n",
       "      <th>WheelechairAccessible</th>\n",
       "      <th>OutdoorSeating</th>\n",
       "      <th>RestaurantsReservations</th>\n",
       "      <th>DogsAllowed</th>\n",
       "      <th>Caters</th>\n",
       "    </tr>\n",
       "  </thead>\n",
       "  <tbody>\n",
       "    <tr>\n",
       "      <th>0</th>\n",
       "      <td>4.5</td>\n",
       "      <td>153</td>\n",
       "      <td>FALSE</td>\n",
       "      <td>'beer_and_wine'</td>\n",
       "      <td>TRUE</td>\n",
       "      <td>'free'</td>\n",
       "      <td>FALSE</td>\n",
       "      <td>(Missing)</td>\n",
       "      <td>(Missing)</td>\n",
       "      <td>FALSE</td>\n",
       "      <td>TRUE</td>\n",
       "      <td>FALSE</td>\n",
       "      <td>FALSE</td>\n",
       "    </tr>\n",
       "    <tr>\n",
       "      <th>1</th>\n",
       "      <td>3.5</td>\n",
       "      <td>19</td>\n",
       "      <td>TRUE</td>\n",
       "      <td>(Missing)</td>\n",
       "      <td>TRUE</td>\n",
       "      <td>'free'</td>\n",
       "      <td>(Missing)</td>\n",
       "      <td>(Missing)</td>\n",
       "      <td>(Missing)</td>\n",
       "      <td>(Missing)</td>\n",
       "      <td>FALSE</td>\n",
       "      <td>(Missing)</td>\n",
       "      <td>(Missing)</td>\n",
       "    </tr>\n",
       "    <tr>\n",
       "      <th>2</th>\n",
       "      <td>4.5</td>\n",
       "      <td>3</td>\n",
       "      <td>TRUE</td>\n",
       "      <td>'full_bar'</td>\n",
       "      <td>TRUE</td>\n",
       "      <td>(Missing)</td>\n",
       "      <td>(Missing)</td>\n",
       "      <td>(Missing)</td>\n",
       "      <td>(Missing)</td>\n",
       "      <td>TRUE</td>\n",
       "      <td>(Missing)</td>\n",
       "      <td>(Missing)</td>\n",
       "      <td>(Missing)</td>\n",
       "    </tr>\n",
       "    <tr>\n",
       "      <th>3</th>\n",
       "      <td>4.0</td>\n",
       "      <td>775</td>\n",
       "      <td>TRUE</td>\n",
       "      <td>'none'</td>\n",
       "      <td>TRUE</td>\n",
       "      <td>'free'</td>\n",
       "      <td>TRUE</td>\n",
       "      <td>FALSE</td>\n",
       "      <td>(Missing)</td>\n",
       "      <td>TRUE</td>\n",
       "      <td>TRUE</td>\n",
       "      <td>(Missing)</td>\n",
       "      <td>TRUE</td>\n",
       "    </tr>\n",
       "    <tr>\n",
       "      <th>4</th>\n",
       "      <td>3.5</td>\n",
       "      <td>24</td>\n",
       "      <td>TRUE</td>\n",
       "      <td>'full_bar'</td>\n",
       "      <td>TRUE</td>\n",
       "      <td>'free'</td>\n",
       "      <td>(Missing)</td>\n",
       "      <td>(Missing)</td>\n",
       "      <td>(Missing)</td>\n",
       "      <td>FALSE</td>\n",
       "      <td>TRUE</td>\n",
       "      <td>(Missing)</td>\n",
       "      <td>(Missing)</td>\n",
       "    </tr>\n",
       "  </tbody>\n",
       "</table>\n",
       "</div>"
      ],
      "text/plain": [
       "   stars  review_count GoodForKids          Alcohol  \\\n",
       "0    4.5           153       FALSE  'beer_and_wine'   \n",
       "1    3.5            19        TRUE        (Missing)   \n",
       "2    4.5             3        TRUE       'full_bar'   \n",
       "3    4.0           775        TRUE           'none'   \n",
       "4    3.5            24        TRUE       'full_bar'   \n",
       "\n",
       "  BusinessAcceptsCreditCards       WiFi BikeParking ByAppointmentOnly  \\\n",
       "0                       TRUE     'free'       FALSE         (Missing)   \n",
       "1                       TRUE     'free'   (Missing)         (Missing)   \n",
       "2                       TRUE  (Missing)   (Missing)         (Missing)   \n",
       "3                       TRUE     'free'        TRUE             FALSE   \n",
       "4                       TRUE     'free'   (Missing)         (Missing)   \n",
       "\n",
       "  WheelechairAccessible OutdoorSeating RestaurantsReservations DogsAllowed  \\\n",
       "0             (Missing)          FALSE                    TRUE       FALSE   \n",
       "1             (Missing)      (Missing)                   FALSE   (Missing)   \n",
       "2             (Missing)           TRUE               (Missing)   (Missing)   \n",
       "3             (Missing)           TRUE                    TRUE   (Missing)   \n",
       "4             (Missing)          FALSE                    TRUE   (Missing)   \n",
       "\n",
       "      Caters  \n",
       "0      FALSE  \n",
       "1  (Missing)  \n",
       "2  (Missing)  \n",
       "3       TRUE  \n",
       "4  (Missing)  "
      ]
     },
     "execution_count": 3,
     "metadata": {},
     "output_type": "execute_result"
    }
   ],
   "source": [
    "yelp_train=pd.read_csv('yelp242_train.csv')\n",
    "yelp_train.head()"
   ]
  },
  {
   "cell_type": "code",
   "execution_count": 4,
   "id": "e8a3442a",
   "metadata": {},
   "outputs": [
    {
     "data": {
      "text/html": [
       "<div>\n",
       "<style scoped>\n",
       "    .dataframe tbody tr th:only-of-type {\n",
       "        vertical-align: middle;\n",
       "    }\n",
       "\n",
       "    .dataframe tbody tr th {\n",
       "        vertical-align: top;\n",
       "    }\n",
       "\n",
       "    .dataframe thead th {\n",
       "        text-align: right;\n",
       "    }\n",
       "</style>\n",
       "<table border=\"1\" class=\"dataframe\">\n",
       "  <thead>\n",
       "    <tr style=\"text-align: right;\">\n",
       "      <th></th>\n",
       "      <th>stars</th>\n",
       "      <th>review_count</th>\n",
       "      <th>GoodForKids</th>\n",
       "      <th>Alcohol</th>\n",
       "      <th>BusinessAcceptsCreditCards</th>\n",
       "      <th>WiFi</th>\n",
       "      <th>BikeParking</th>\n",
       "      <th>ByAppointmentOnly</th>\n",
       "      <th>WheelechairAccessible</th>\n",
       "      <th>OutdoorSeating</th>\n",
       "      <th>RestaurantsReservations</th>\n",
       "      <th>DogsAllowed</th>\n",
       "      <th>Caters</th>\n",
       "    </tr>\n",
       "  </thead>\n",
       "  <tbody>\n",
       "    <tr>\n",
       "      <th>0</th>\n",
       "      <td>4.0</td>\n",
       "      <td>34</td>\n",
       "      <td>(Missing)</td>\n",
       "      <td>'full_bar'</td>\n",
       "      <td>TRUE</td>\n",
       "      <td>'free'</td>\n",
       "      <td>TRUE</td>\n",
       "      <td>(Missing)</td>\n",
       "      <td>TRUE</td>\n",
       "      <td>TRUE</td>\n",
       "      <td>TRUE</td>\n",
       "      <td>FALSE</td>\n",
       "      <td>TRUE</td>\n",
       "    </tr>\n",
       "    <tr>\n",
       "      <th>1</th>\n",
       "      <td>4.0</td>\n",
       "      <td>802</td>\n",
       "      <td>TRUE</td>\n",
       "      <td>(Missing)</td>\n",
       "      <td>TRUE</td>\n",
       "      <td>'free'</td>\n",
       "      <td>FALSE</td>\n",
       "      <td>(Missing)</td>\n",
       "      <td>(Missing)</td>\n",
       "      <td>TRUE</td>\n",
       "      <td>(Missing)</td>\n",
       "      <td>FALSE</td>\n",
       "      <td>TRUE</td>\n",
       "    </tr>\n",
       "    <tr>\n",
       "      <th>2</th>\n",
       "      <td>4.0</td>\n",
       "      <td>231</td>\n",
       "      <td>TRUE</td>\n",
       "      <td>'full_bar'</td>\n",
       "      <td>TRUE</td>\n",
       "      <td>'free'</td>\n",
       "      <td>FALSE</td>\n",
       "      <td>FALSE</td>\n",
       "      <td>(Missing)</td>\n",
       "      <td>FALSE</td>\n",
       "      <td>TRUE</td>\n",
       "      <td>FALSE</td>\n",
       "      <td>TRUE</td>\n",
       "    </tr>\n",
       "    <tr>\n",
       "      <th>3</th>\n",
       "      <td>2.0</td>\n",
       "      <td>27</td>\n",
       "      <td>TRUE</td>\n",
       "      <td>'none'</td>\n",
       "      <td>TRUE</td>\n",
       "      <td>'free'</td>\n",
       "      <td>TRUE</td>\n",
       "      <td>(Missing)</td>\n",
       "      <td>TRUE</td>\n",
       "      <td>FALSE</td>\n",
       "      <td>FALSE</td>\n",
       "      <td>FALSE</td>\n",
       "      <td>TRUE</td>\n",
       "    </tr>\n",
       "    <tr>\n",
       "      <th>4</th>\n",
       "      <td>3.5</td>\n",
       "      <td>6</td>\n",
       "      <td>(Missing)</td>\n",
       "      <td>'beer_and_wine'</td>\n",
       "      <td>TRUE</td>\n",
       "      <td>(Missing)</td>\n",
       "      <td>(Missing)</td>\n",
       "      <td>(Missing)</td>\n",
       "      <td>(Missing)</td>\n",
       "      <td>FALSE</td>\n",
       "      <td>FALSE</td>\n",
       "      <td>(Missing)</td>\n",
       "      <td>(Missing)</td>\n",
       "    </tr>\n",
       "  </tbody>\n",
       "</table>\n",
       "</div>"
      ],
      "text/plain": [
       "   stars  review_count GoodForKids          Alcohol  \\\n",
       "0    4.0            34   (Missing)       'full_bar'   \n",
       "1    4.0           802        TRUE        (Missing)   \n",
       "2    4.0           231        TRUE       'full_bar'   \n",
       "3    2.0            27        TRUE           'none'   \n",
       "4    3.5             6   (Missing)  'beer_and_wine'   \n",
       "\n",
       "  BusinessAcceptsCreditCards       WiFi BikeParking ByAppointmentOnly  \\\n",
       "0                       TRUE     'free'        TRUE         (Missing)   \n",
       "1                       TRUE     'free'       FALSE         (Missing)   \n",
       "2                       TRUE     'free'       FALSE             FALSE   \n",
       "3                       TRUE     'free'        TRUE         (Missing)   \n",
       "4                       TRUE  (Missing)   (Missing)         (Missing)   \n",
       "\n",
       "  WheelechairAccessible OutdoorSeating RestaurantsReservations DogsAllowed  \\\n",
       "0                  TRUE           TRUE                    TRUE       FALSE   \n",
       "1             (Missing)           TRUE               (Missing)       FALSE   \n",
       "2             (Missing)          FALSE                    TRUE       FALSE   \n",
       "3                  TRUE          FALSE                   FALSE       FALSE   \n",
       "4             (Missing)          FALSE                   FALSE   (Missing)   \n",
       "\n",
       "      Caters  \n",
       "0       TRUE  \n",
       "1       TRUE  \n",
       "2       TRUE  \n",
       "3       TRUE  \n",
       "4  (Missing)  "
      ]
     },
     "execution_count": 4,
     "metadata": {},
     "output_type": "execute_result"
    }
   ],
   "source": [
    "yelp_test=pd.read_csv('yelp242_test.csv')\n",
    "yelp_test.head()"
   ]
  },
  {
   "cell_type": "code",
   "execution_count": 5,
   "id": "2f8ce197",
   "metadata": {},
   "outputs": [],
   "source": [
    "import statsmodels.formula.api as smf\n",
    "\n"
   ]
  },
  {
   "cell_type": "code",
   "execution_count": 6,
   "id": "c8bc4239",
   "metadata": {},
   "outputs": [
    {
     "name": "stdout",
     "output_type": "stream",
     "text": [
      "                            OLS Regression Results                            \n",
      "==============================================================================\n",
      "Dep. Variable:                  stars   R-squared:                       0.170\n",
      "Model:                            OLS   Adj. R-squared:                  0.167\n",
      "Method:                 Least Squares   F-statistic:                     55.64\n",
      "Date:                Thu, 20 Oct 2022   Prob (F-statistic):          5.59e-232\n",
      "Time:                        12:48:45   Log-Likelihood:                -7232.7\n",
      "No. Observations:                6272   AIC:                         1.451e+04\n",
      "Df Residuals:                    6248   BIC:                         1.468e+04\n",
      "Df Model:                          23                                         \n",
      "Covariance Type:            nonrobust                                         \n",
      "============================================================================================================================================\n",
      "                                                                               coef    std err          t      P>|t|      [0.025      0.975]\n",
      "--------------------------------------------------------------------------------------------------------------------------------------------\n",
      "Intercept                                                                    3.3451      0.039     85.483      0.000       3.268       3.422\n",
      "C(GoodForKids, Treatment(reference=\"(Missing)\"))[T.FALSE]                   -0.0209      0.046     -0.458      0.647      -0.111       0.069\n",
      "C(GoodForKids, Treatment(reference=\"(Missing)\"))[T.TRUE]                    -0.1255      0.035     -3.556      0.000      -0.195      -0.056\n",
      "C(Alcohol, Treatment(reference=\"(Missing)\"))[T.'beer_and_wine']              0.1955      0.047      4.169      0.000       0.104       0.287\n",
      "C(Alcohol, Treatment(reference=\"(Missing)\"))[T.'full_bar']                   0.1185      0.044      2.721      0.007       0.033       0.204\n",
      "C(Alcohol, Treatment(reference=\"(Missing)\"))[T.'none']                       0.0987      0.039      2.531      0.011       0.022       0.175\n",
      "C(BusinessAcceptsCreditCards, Treatment(reference=\"(Missing)\"))[T.FALSE]     0.6593      0.087      7.579      0.000       0.489       0.830\n",
      "C(BusinessAcceptsCreditCards, Treatment(reference=\"(Missing)\"))[T.TRUE]      0.1421      0.046      3.076      0.002       0.052       0.233\n",
      "C(WiFi, Treatment(reference=\"(Missing)\"))[T.'free']                          0.0720      0.034      2.098      0.036       0.005       0.139\n",
      "C(WiFi, Treatment(reference=\"(Missing)\"))[T.'no']                            0.0825      0.033      2.495      0.013       0.018       0.147\n",
      "C(WiFi, Treatment(reference=\"(Missing)\"))[T.'paid']                         -0.2745      0.103     -2.653      0.008      -0.477      -0.072\n",
      "C(BikeParking, Treatment(reference=\"(Missing)\"))[T.FALSE]                   -0.1742      0.032     -5.468      0.000      -0.237      -0.112\n",
      "C(BikeParking, Treatment(reference=\"(Missing)\"))[T.TRUE]                    -0.1032      0.029     -3.599      0.000      -0.159      -0.047\n",
      "C(WheelechairAccessible, Treatment(reference=\"(Missing)\"))[T.FALSE]          0.6934      0.089      7.748      0.000       0.518       0.869\n",
      "C(WheelechairAccessible, Treatment(reference=\"(Missing)\"))[T.TRUE]           0.3582      0.027     13.029      0.000       0.304       0.412\n",
      "C(OutdoorSeating, Treatment(reference=\"(Missing)\"))[T.FALSE]                -0.0892      0.040     -2.256      0.024      -0.167      -0.012\n",
      "C(OutdoorSeating, Treatment(reference=\"(Missing)\"))[T.TRUE]                  0.0053      0.042      0.126      0.900      -0.077       0.088\n",
      "C(RestaurantsReservations, Treatment(reference=\"(Missing)\"))[T.FALSE]       -0.2308      0.040     -5.773      0.000      -0.309      -0.152\n",
      "C(RestaurantsReservations, Treatment(reference=\"(Missing)\"))[T.TRUE]        -0.0193      0.045     -0.432      0.666      -0.107       0.068\n",
      "C(DogsAllowed, Treatment(reference=\"(Missing)\"))[T.FALSE]                    0.2728      0.029      9.446      0.000       0.216       0.329\n",
      "C(DogsAllowed, Treatment(reference=\"(Missing)\"))[T.TRUE]                     0.1555      0.053      2.910      0.004       0.051       0.260\n",
      "C(Caters, Treatment(reference=\"(Missing)\"))[T.FALSE]                        -0.0872      0.030     -2.901      0.004      -0.146      -0.028\n",
      "C(Caters, Treatment(reference=\"(Missing)\"))[T.TRUE]                          0.1613      0.033      4.957      0.000       0.098       0.225\n",
      "review_count                                                                 0.0001   2.81e-05      4.772      0.000    7.91e-05       0.000\n",
      "==============================================================================\n",
      "Omnibus:                      130.662   Durbin-Watson:                   1.994\n",
      "Prob(Omnibus):                  0.000   Jarque-Bera (JB):              138.500\n",
      "Skew:                          -0.363   Prob(JB):                     8.42e-31\n",
      "Kurtosis:                       3.057   Cond. No.                     4.66e+03\n",
      "==============================================================================\n",
      "\n",
      "Notes:\n",
      "[1] Standard Errors assume that the covariance matrix of the errors is correctly specified.\n",
      "[2] The condition number is large, 4.66e+03. This might indicate that there are\n",
      "strong multicollinearity or other numerical problems.\n"
     ]
    }
   ],
   "source": [
    "model1 = smf.ols(formula='stars ~ review_count + C(GoodForKids, Treatment(reference=\"(Missing)\"))+ C(Alcohol, Treatment(reference=\"(Missing)\"))+C(BusinessAcceptsCreditCards, Treatment(reference=\"(Missing)\"))+ C(WiFi, Treatment(reference=\"(Missing)\"))+C(BikeParking, Treatment(reference=\"(Missing)\"))+C(WheelechairAccessible, Treatment(reference=\"(Missing)\"))+ C(OutdoorSeating, Treatment(reference=\"(Missing)\"))+ C(RestaurantsReservations, Treatment(reference=\"(Missing)\"))+C(DogsAllowed, Treatment(reference=\"(Missing)\"))+C(Caters, Treatment(reference=\"(Missing)\"))',data=yelp_train).fit()\n",
    "\n",
    "print(model1.summary())"
   ]
  },
  {
   "cell_type": "code",
   "execution_count": 7,
   "id": "6e6564aa",
   "metadata": {},
   "outputs": [
    {
     "data": {
      "text/html": [
       "<div>\n",
       "<style scoped>\n",
       "    .dataframe tbody tr th:only-of-type {\n",
       "        vertical-align: middle;\n",
       "    }\n",
       "\n",
       "    .dataframe tbody tr th {\n",
       "        vertical-align: top;\n",
       "    }\n",
       "\n",
       "    .dataframe thead th {\n",
       "        text-align: right;\n",
       "    }\n",
       "</style>\n",
       "<table border=\"1\" class=\"dataframe\">\n",
       "  <thead>\n",
       "    <tr style=\"text-align: right;\">\n",
       "      <th></th>\n",
       "      <th>coef</th>\n",
       "      <th>std err</th>\n",
       "      <th>t</th>\n",
       "      <th>P&gt;|t|</th>\n",
       "      <th>[0.025</th>\n",
       "      <th>0.975]</th>\n",
       "    </tr>\n",
       "    <tr>\n",
       "      <th></th>\n",
       "      <th></th>\n",
       "      <th></th>\n",
       "      <th></th>\n",
       "      <th></th>\n",
       "      <th></th>\n",
       "      <th></th>\n",
       "    </tr>\n",
       "  </thead>\n",
       "  <tbody>\n",
       "    <tr>\n",
       "      <th>Intercept</th>\n",
       "      <td>3.3451</td>\n",
       "      <td>0.039</td>\n",
       "      <td>85.483</td>\n",
       "      <td>0.000</td>\n",
       "      <td>3.268</td>\n",
       "      <td>3.422</td>\n",
       "    </tr>\n",
       "    <tr>\n",
       "      <th>C(GoodForKids, Treatment(reference=\"(Missing)\"))[T.FALSE]</th>\n",
       "      <td>-0.0209</td>\n",
       "      <td>0.046</td>\n",
       "      <td>-0.458</td>\n",
       "      <td>0.647</td>\n",
       "      <td>-0.111</td>\n",
       "      <td>0.069</td>\n",
       "    </tr>\n",
       "    <tr>\n",
       "      <th>C(GoodForKids, Treatment(reference=\"(Missing)\"))[T.TRUE]</th>\n",
       "      <td>-0.1255</td>\n",
       "      <td>0.035</td>\n",
       "      <td>-3.556</td>\n",
       "      <td>0.000</td>\n",
       "      <td>-0.195</td>\n",
       "      <td>-0.056</td>\n",
       "    </tr>\n",
       "    <tr>\n",
       "      <th>C(Alcohol, Treatment(reference=\"(Missing)\"))[T.'beer_and_wine']</th>\n",
       "      <td>0.1955</td>\n",
       "      <td>0.047</td>\n",
       "      <td>4.169</td>\n",
       "      <td>0.000</td>\n",
       "      <td>0.104</td>\n",
       "      <td>0.287</td>\n",
       "    </tr>\n",
       "    <tr>\n",
       "      <th>C(Alcohol, Treatment(reference=\"(Missing)\"))[T.'full_bar']</th>\n",
       "      <td>0.1185</td>\n",
       "      <td>0.044</td>\n",
       "      <td>2.721</td>\n",
       "      <td>0.007</td>\n",
       "      <td>0.033</td>\n",
       "      <td>0.204</td>\n",
       "    </tr>\n",
       "    <tr>\n",
       "      <th>C(Alcohol, Treatment(reference=\"(Missing)\"))[T.'none']</th>\n",
       "      <td>0.0987</td>\n",
       "      <td>0.039</td>\n",
       "      <td>2.531</td>\n",
       "      <td>0.011</td>\n",
       "      <td>0.022</td>\n",
       "      <td>0.175</td>\n",
       "    </tr>\n",
       "    <tr>\n",
       "      <th>C(BusinessAcceptsCreditCards, Treatment(reference=\"(Missing)\"))[T.FALSE]</th>\n",
       "      <td>0.6593</td>\n",
       "      <td>0.087</td>\n",
       "      <td>7.579</td>\n",
       "      <td>0.000</td>\n",
       "      <td>0.489</td>\n",
       "      <td>0.830</td>\n",
       "    </tr>\n",
       "    <tr>\n",
       "      <th>C(BusinessAcceptsCreditCards, Treatment(reference=\"(Missing)\"))[T.TRUE]</th>\n",
       "      <td>0.1421</td>\n",
       "      <td>0.046</td>\n",
       "      <td>3.076</td>\n",
       "      <td>0.002</td>\n",
       "      <td>0.052</td>\n",
       "      <td>0.233</td>\n",
       "    </tr>\n",
       "    <tr>\n",
       "      <th>C(WiFi, Treatment(reference=\"(Missing)\"))[T.'free']</th>\n",
       "      <td>0.0720</td>\n",
       "      <td>0.034</td>\n",
       "      <td>2.098</td>\n",
       "      <td>0.036</td>\n",
       "      <td>0.005</td>\n",
       "      <td>0.139</td>\n",
       "    </tr>\n",
       "    <tr>\n",
       "      <th>C(WiFi, Treatment(reference=\"(Missing)\"))[T.'no']</th>\n",
       "      <td>0.0825</td>\n",
       "      <td>0.033</td>\n",
       "      <td>2.495</td>\n",
       "      <td>0.013</td>\n",
       "      <td>0.018</td>\n",
       "      <td>0.147</td>\n",
       "    </tr>\n",
       "    <tr>\n",
       "      <th>C(WiFi, Treatment(reference=\"(Missing)\"))[T.'paid']</th>\n",
       "      <td>-0.2745</td>\n",
       "      <td>0.103</td>\n",
       "      <td>-2.653</td>\n",
       "      <td>0.008</td>\n",
       "      <td>-0.477</td>\n",
       "      <td>-0.072</td>\n",
       "    </tr>\n",
       "    <tr>\n",
       "      <th>C(BikeParking, Treatment(reference=\"(Missing)\"))[T.FALSE]</th>\n",
       "      <td>-0.1742</td>\n",
       "      <td>0.032</td>\n",
       "      <td>-5.468</td>\n",
       "      <td>0.000</td>\n",
       "      <td>-0.237</td>\n",
       "      <td>-0.112</td>\n",
       "    </tr>\n",
       "    <tr>\n",
       "      <th>C(BikeParking, Treatment(reference=\"(Missing)\"))[T.TRUE]</th>\n",
       "      <td>-0.1032</td>\n",
       "      <td>0.029</td>\n",
       "      <td>-3.599</td>\n",
       "      <td>0.000</td>\n",
       "      <td>-0.159</td>\n",
       "      <td>-0.047</td>\n",
       "    </tr>\n",
       "    <tr>\n",
       "      <th>C(WheelechairAccessible, Treatment(reference=\"(Missing)\"))[T.FALSE]</th>\n",
       "      <td>0.6934</td>\n",
       "      <td>0.089</td>\n",
       "      <td>7.748</td>\n",
       "      <td>0.000</td>\n",
       "      <td>0.518</td>\n",
       "      <td>0.869</td>\n",
       "    </tr>\n",
       "    <tr>\n",
       "      <th>C(WheelechairAccessible, Treatment(reference=\"(Missing)\"))[T.TRUE]</th>\n",
       "      <td>0.3582</td>\n",
       "      <td>0.027</td>\n",
       "      <td>13.029</td>\n",
       "      <td>0.000</td>\n",
       "      <td>0.304</td>\n",
       "      <td>0.412</td>\n",
       "    </tr>\n",
       "    <tr>\n",
       "      <th>C(OutdoorSeating, Treatment(reference=\"(Missing)\"))[T.FALSE]</th>\n",
       "      <td>-0.0892</td>\n",
       "      <td>0.040</td>\n",
       "      <td>-2.256</td>\n",
       "      <td>0.024</td>\n",
       "      <td>-0.167</td>\n",
       "      <td>-0.012</td>\n",
       "    </tr>\n",
       "    <tr>\n",
       "      <th>C(OutdoorSeating, Treatment(reference=\"(Missing)\"))[T.TRUE]</th>\n",
       "      <td>0.0053</td>\n",
       "      <td>0.042</td>\n",
       "      <td>0.126</td>\n",
       "      <td>0.900</td>\n",
       "      <td>-0.077</td>\n",
       "      <td>0.088</td>\n",
       "    </tr>\n",
       "    <tr>\n",
       "      <th>C(RestaurantsReservations, Treatment(reference=\"(Missing)\"))[T.FALSE]</th>\n",
       "      <td>-0.2308</td>\n",
       "      <td>0.040</td>\n",
       "      <td>-5.773</td>\n",
       "      <td>0.000</td>\n",
       "      <td>-0.309</td>\n",
       "      <td>-0.152</td>\n",
       "    </tr>\n",
       "    <tr>\n",
       "      <th>C(RestaurantsReservations, Treatment(reference=\"(Missing)\"))[T.TRUE]</th>\n",
       "      <td>-0.0193</td>\n",
       "      <td>0.045</td>\n",
       "      <td>-0.432</td>\n",
       "      <td>0.666</td>\n",
       "      <td>-0.107</td>\n",
       "      <td>0.068</td>\n",
       "    </tr>\n",
       "    <tr>\n",
       "      <th>C(DogsAllowed, Treatment(reference=\"(Missing)\"))[T.FALSE]</th>\n",
       "      <td>0.2728</td>\n",
       "      <td>0.029</td>\n",
       "      <td>9.446</td>\n",
       "      <td>0.000</td>\n",
       "      <td>0.216</td>\n",
       "      <td>0.329</td>\n",
       "    </tr>\n",
       "    <tr>\n",
       "      <th>C(DogsAllowed, Treatment(reference=\"(Missing)\"))[T.TRUE]</th>\n",
       "      <td>0.1555</td>\n",
       "      <td>0.053</td>\n",
       "      <td>2.910</td>\n",
       "      <td>0.004</td>\n",
       "      <td>0.051</td>\n",
       "      <td>0.260</td>\n",
       "    </tr>\n",
       "    <tr>\n",
       "      <th>C(Caters, Treatment(reference=\"(Missing)\"))[T.FALSE]</th>\n",
       "      <td>-0.0872</td>\n",
       "      <td>0.030</td>\n",
       "      <td>-2.901</td>\n",
       "      <td>0.004</td>\n",
       "      <td>-0.146</td>\n",
       "      <td>-0.028</td>\n",
       "    </tr>\n",
       "    <tr>\n",
       "      <th>C(Caters, Treatment(reference=\"(Missing)\"))[T.TRUE]</th>\n",
       "      <td>0.1613</td>\n",
       "      <td>0.033</td>\n",
       "      <td>4.957</td>\n",
       "      <td>0.000</td>\n",
       "      <td>0.098</td>\n",
       "      <td>0.225</td>\n",
       "    </tr>\n",
       "    <tr>\n",
       "      <th>review_count</th>\n",
       "      <td>0.0001</td>\n",
       "      <td>2.81e-05</td>\n",
       "      <td>4.772</td>\n",
       "      <td>0.000</td>\n",
       "      <td>7.91e-05</td>\n",
       "      <td>0.000</td>\n",
       "    </tr>\n",
       "  </tbody>\n",
       "</table>\n",
       "</div>"
      ],
      "text/plain": [
       "0                                                         coef    std err  \\\n",
       "                                                                            \n",
       "Intercept                                               3.3451      0.039   \n",
       "C(GoodForKids, Treatment(reference=\"(Missing)\")...     -0.0209      0.046   \n",
       "C(GoodForKids, Treatment(reference=\"(Missing)\")...     -0.1255      0.035   \n",
       "C(Alcohol, Treatment(reference=\"(Missing)\"))[T....      0.1955      0.047   \n",
       "C(Alcohol, Treatment(reference=\"(Missing)\"))[T....      0.1185      0.044   \n",
       "C(Alcohol, Treatment(reference=\"(Missing)\"))[T....      0.0987      0.039   \n",
       "C(BusinessAcceptsCreditCards, Treatment(referen...      0.6593      0.087   \n",
       "C(BusinessAcceptsCreditCards, Treatment(referen...      0.1421      0.046   \n",
       "C(WiFi, Treatment(reference=\"(Missing)\"))[T.'fr...      0.0720      0.034   \n",
       "C(WiFi, Treatment(reference=\"(Missing)\"))[T.'no']       0.0825      0.033   \n",
       "C(WiFi, Treatment(reference=\"(Missing)\"))[T.'pa...     -0.2745      0.103   \n",
       "C(BikeParking, Treatment(reference=\"(Missing)\")...     -0.1742      0.032   \n",
       "C(BikeParking, Treatment(reference=\"(Missing)\")...     -0.1032      0.029   \n",
       "C(WheelechairAccessible, Treatment(reference=\"(...      0.6934      0.089   \n",
       "C(WheelechairAccessible, Treatment(reference=\"(...      0.3582      0.027   \n",
       "C(OutdoorSeating, Treatment(reference=\"(Missing...     -0.0892      0.040   \n",
       "C(OutdoorSeating, Treatment(reference=\"(Missing...      0.0053      0.042   \n",
       "C(RestaurantsReservations, Treatment(reference=...     -0.2308      0.040   \n",
       "C(RestaurantsReservations, Treatment(reference=...     -0.0193      0.045   \n",
       "C(DogsAllowed, Treatment(reference=\"(Missing)\")...      0.2728      0.029   \n",
       "C(DogsAllowed, Treatment(reference=\"(Missing)\")...      0.1555      0.053   \n",
       "C(Caters, Treatment(reference=\"(Missing)\"))[T.F...     -0.0872      0.030   \n",
       "C(Caters, Treatment(reference=\"(Missing)\"))[T.T...      0.1613      0.033   \n",
       "review_count                                            0.0001   2.81e-05   \n",
       "\n",
       "0                                                           t   P>|t|  \\\n",
       "                                                                        \n",
       "Intercept                                              85.483   0.000   \n",
       "C(GoodForKids, Treatment(reference=\"(Missing)\")...     -0.458   0.647   \n",
       "C(GoodForKids, Treatment(reference=\"(Missing)\")...     -3.556   0.000   \n",
       "C(Alcohol, Treatment(reference=\"(Missing)\"))[T....      4.169   0.000   \n",
       "C(Alcohol, Treatment(reference=\"(Missing)\"))[T....      2.721   0.007   \n",
       "C(Alcohol, Treatment(reference=\"(Missing)\"))[T....      2.531   0.011   \n",
       "C(BusinessAcceptsCreditCards, Treatment(referen...      7.579   0.000   \n",
       "C(BusinessAcceptsCreditCards, Treatment(referen...      3.076   0.002   \n",
       "C(WiFi, Treatment(reference=\"(Missing)\"))[T.'fr...      2.098   0.036   \n",
       "C(WiFi, Treatment(reference=\"(Missing)\"))[T.'no']       2.495   0.013   \n",
       "C(WiFi, Treatment(reference=\"(Missing)\"))[T.'pa...     -2.653   0.008   \n",
       "C(BikeParking, Treatment(reference=\"(Missing)\")...     -5.468   0.000   \n",
       "C(BikeParking, Treatment(reference=\"(Missing)\")...     -3.599   0.000   \n",
       "C(WheelechairAccessible, Treatment(reference=\"(...      7.748   0.000   \n",
       "C(WheelechairAccessible, Treatment(reference=\"(...     13.029   0.000   \n",
       "C(OutdoorSeating, Treatment(reference=\"(Missing...     -2.256   0.024   \n",
       "C(OutdoorSeating, Treatment(reference=\"(Missing...      0.126   0.900   \n",
       "C(RestaurantsReservations, Treatment(reference=...     -5.773   0.000   \n",
       "C(RestaurantsReservations, Treatment(reference=...     -0.432   0.666   \n",
       "C(DogsAllowed, Treatment(reference=\"(Missing)\")...      9.446   0.000   \n",
       "C(DogsAllowed, Treatment(reference=\"(Missing)\")...      2.910   0.004   \n",
       "C(Caters, Treatment(reference=\"(Missing)\"))[T.F...     -2.901   0.004   \n",
       "C(Caters, Treatment(reference=\"(Missing)\"))[T.T...      4.957   0.000   \n",
       "review_count                                            4.772   0.000   \n",
       "\n",
       "0                                                      [0.025     0.975]  \n",
       "                                                                          \n",
       "Intercept                                               3.268      3.422  \n",
       "C(GoodForKids, Treatment(reference=\"(Missing)\")...     -0.111      0.069  \n",
       "C(GoodForKids, Treatment(reference=\"(Missing)\")...     -0.195     -0.056  \n",
       "C(Alcohol, Treatment(reference=\"(Missing)\"))[T....      0.104      0.287  \n",
       "C(Alcohol, Treatment(reference=\"(Missing)\"))[T....      0.033      0.204  \n",
       "C(Alcohol, Treatment(reference=\"(Missing)\"))[T....      0.022      0.175  \n",
       "C(BusinessAcceptsCreditCards, Treatment(referen...      0.489      0.830  \n",
       "C(BusinessAcceptsCreditCards, Treatment(referen...      0.052      0.233  \n",
       "C(WiFi, Treatment(reference=\"(Missing)\"))[T.'fr...      0.005      0.139  \n",
       "C(WiFi, Treatment(reference=\"(Missing)\"))[T.'no']       0.018      0.147  \n",
       "C(WiFi, Treatment(reference=\"(Missing)\"))[T.'pa...     -0.477     -0.072  \n",
       "C(BikeParking, Treatment(reference=\"(Missing)\")...     -0.237     -0.112  \n",
       "C(BikeParking, Treatment(reference=\"(Missing)\")...     -0.159     -0.047  \n",
       "C(WheelechairAccessible, Treatment(reference=\"(...      0.518      0.869  \n",
       "C(WheelechairAccessible, Treatment(reference=\"(...      0.304      0.412  \n",
       "C(OutdoorSeating, Treatment(reference=\"(Missing...     -0.167     -0.012  \n",
       "C(OutdoorSeating, Treatment(reference=\"(Missing...     -0.077      0.088  \n",
       "C(RestaurantsReservations, Treatment(reference=...     -0.309     -0.152  \n",
       "C(RestaurantsReservations, Treatment(reference=...     -0.107      0.068  \n",
       "C(DogsAllowed, Treatment(reference=\"(Missing)\")...      0.216      0.329  \n",
       "C(DogsAllowed, Treatment(reference=\"(Missing)\")...      0.051      0.260  \n",
       "C(Caters, Treatment(reference=\"(Missing)\"))[T.F...     -0.146     -0.028  \n",
       "C(Caters, Treatment(reference=\"(Missing)\"))[T.T...      0.098      0.225  \n",
       "review_count                                         7.91e-05      0.000  "
      ]
     },
     "execution_count": 7,
     "metadata": {},
     "output_type": "execute_result"
    }
   ],
   "source": [
    "coef_df = pd.DataFrame(model1.summary().tables[1].data)\n",
    "coef_df.columns = coef_df.iloc[0]\n",
    "coef_df.index = coef_df[\"\"]\n",
    "coef_df = coef_df.iloc[1:,1:]\n",
    "coef_df"
   ]
  },
  {
   "cell_type": "code",
   "execution_count": 8,
   "id": "64144cf7",
   "metadata": {},
   "outputs": [],
   "source": [
    "def OSR2(model, df_train, df_test, dependent_var):   \n",
    "    \n",
    "    y_test = df_test[dependent_var]\n",
    "    y_pred = model.predict(df_test)\n",
    "    SSE = np.sum((y_test - y_pred)**2)\n",
    "    SST = np.sum((y_test - np.mean(df_train[dependent_var]))**2)    \n",
    "    \n",
    "    return 1 - SSE/SST"
   ]
  },
  {
   "cell_type": "code",
   "execution_count": 9,
   "id": "f0d7fef1",
   "metadata": {},
   "outputs": [],
   "source": [
    "def MAE(model, df_train, df_test, dependent_var):   \n",
    "    \n",
    "    y_test = df_test[dependent_var]\n",
    "    y_pred = model.predict(df_test)\n",
    "    MAE = np.mean(np.abs(y_test-y_pred))\n",
    "    return MAE\n",
    "    "
   ]
  },
  {
   "cell_type": "code",
   "execution_count": 10,
   "id": "115635fd",
   "metadata": {},
   "outputs": [
    {
     "name": "stdout",
     "output_type": "stream",
     "text": [
      "The OSR2 for Linear Regression=  0.15097762949425841\n"
     ]
    }
   ],
   "source": [
    "\n",
    "print(\"The OSR2 for Linear Regression= \",OSR2(model1, yelp_train, yelp_test, 'stars') )"
   ]
  },
  {
   "cell_type": "code",
   "execution_count": 11,
   "id": "57542637",
   "metadata": {},
   "outputs": [
    {
     "name": "stdout",
     "output_type": "stream",
     "text": [
      "The MAE for Linear Regression= 0.6406880153775292\n"
     ]
    }
   ],
   "source": [
    "mae=MAE(model1, yelp_train, yelp_test, 'stars')\n",
    "print(\"The MAE for Linear Regression=\",mae)"
   ]
  },
  {
   "cell_type": "markdown",
   "id": "9217e9cb",
   "metadata": {},
   "source": [
    "### Regression Tree (CART)"
   ]
  },
  {
   "cell_type": "code",
   "execution_count": 12,
   "id": "8df2a921",
   "metadata": {},
   "outputs": [],
   "source": [
    "from sklearn.model_selection import train_test_split"
   ]
  },
  {
   "cell_type": "code",
   "execution_count": 13,
   "id": "9d68ed53",
   "metadata": {},
   "outputs": [],
   "source": [
    "RT_yelp=pd.get_dummies(yelp_train)"
   ]
  },
  {
   "cell_type": "code",
   "execution_count": 14,
   "id": "86157b89",
   "metadata": {},
   "outputs": [],
   "source": [
    "y_CTR_train = RT_yelp['stars']\n",
    "x_CTR_train = RT_yelp.drop(['stars'], axis=1)\n",
    "\n",
    "y_CTR_test=yelp_test['stars']\n",
    "x_CTR_test = pd.get_dummies(yelp_test.drop(['stars'], axis=1))"
   ]
  },
  {
   "cell_type": "code",
   "execution_count": 15,
   "id": "edbae8d5",
   "metadata": {
    "scrolled": true
   },
   "outputs": [
    {
     "data": {
      "text/plain": [
       "0       4.0\n",
       "1       4.0\n",
       "2       4.0\n",
       "3       2.0\n",
       "4       3.5\n",
       "       ... \n",
       "2683    2.5\n",
       "2684    2.0\n",
       "2685    4.0\n",
       "2686    3.5\n",
       "2687    3.5\n",
       "Name: stars, Length: 2688, dtype: float64"
      ]
     },
     "execution_count": 15,
     "metadata": {},
     "output_type": "execute_result"
    }
   ],
   "source": [
    "y_CTR_test\n"
   ]
  },
  {
   "cell_type": "code",
   "execution_count": 16,
   "id": "f5866ac2",
   "metadata": {},
   "outputs": [
    {
     "data": {
      "text/html": [
       "<style>#sk-container-id-1 {color: black;background-color: white;}#sk-container-id-1 pre{padding: 0;}#sk-container-id-1 div.sk-toggleable {background-color: white;}#sk-container-id-1 label.sk-toggleable__label {cursor: pointer;display: block;width: 100%;margin-bottom: 0;padding: 0.3em;box-sizing: border-box;text-align: center;}#sk-container-id-1 label.sk-toggleable__label-arrow:before {content: \"▸\";float: left;margin-right: 0.25em;color: #696969;}#sk-container-id-1 label.sk-toggleable__label-arrow:hover:before {color: black;}#sk-container-id-1 div.sk-estimator:hover label.sk-toggleable__label-arrow:before {color: black;}#sk-container-id-1 div.sk-toggleable__content {max-height: 0;max-width: 0;overflow: hidden;text-align: left;background-color: #f0f8ff;}#sk-container-id-1 div.sk-toggleable__content pre {margin: 0.2em;color: black;border-radius: 0.25em;background-color: #f0f8ff;}#sk-container-id-1 input.sk-toggleable__control:checked~div.sk-toggleable__content {max-height: 200px;max-width: 100%;overflow: auto;}#sk-container-id-1 input.sk-toggleable__control:checked~label.sk-toggleable__label-arrow:before {content: \"▾\";}#sk-container-id-1 div.sk-estimator input.sk-toggleable__control:checked~label.sk-toggleable__label {background-color: #d4ebff;}#sk-container-id-1 div.sk-label input.sk-toggleable__control:checked~label.sk-toggleable__label {background-color: #d4ebff;}#sk-container-id-1 input.sk-hidden--visually {border: 0;clip: rect(1px 1px 1px 1px);clip: rect(1px, 1px, 1px, 1px);height: 1px;margin: -1px;overflow: hidden;padding: 0;position: absolute;width: 1px;}#sk-container-id-1 div.sk-estimator {font-family: monospace;background-color: #f0f8ff;border: 1px dotted black;border-radius: 0.25em;box-sizing: border-box;margin-bottom: 0.5em;}#sk-container-id-1 div.sk-estimator:hover {background-color: #d4ebff;}#sk-container-id-1 div.sk-parallel-item::after {content: \"\";width: 100%;border-bottom: 1px solid gray;flex-grow: 1;}#sk-container-id-1 div.sk-label:hover label.sk-toggleable__label {background-color: #d4ebff;}#sk-container-id-1 div.sk-serial::before {content: \"\";position: absolute;border-left: 1px solid gray;box-sizing: border-box;top: 0;bottom: 0;left: 50%;z-index: 0;}#sk-container-id-1 div.sk-serial {display: flex;flex-direction: column;align-items: center;background-color: white;padding-right: 0.2em;padding-left: 0.2em;position: relative;}#sk-container-id-1 div.sk-item {position: relative;z-index: 1;}#sk-container-id-1 div.sk-parallel {display: flex;align-items: stretch;justify-content: center;background-color: white;position: relative;}#sk-container-id-1 div.sk-item::before, #sk-container-id-1 div.sk-parallel-item::before {content: \"\";position: absolute;border-left: 1px solid gray;box-sizing: border-box;top: 0;bottom: 0;left: 50%;z-index: -1;}#sk-container-id-1 div.sk-parallel-item {display: flex;flex-direction: column;z-index: 1;position: relative;background-color: white;}#sk-container-id-1 div.sk-parallel-item:first-child::after {align-self: flex-end;width: 50%;}#sk-container-id-1 div.sk-parallel-item:last-child::after {align-self: flex-start;width: 50%;}#sk-container-id-1 div.sk-parallel-item:only-child::after {width: 0;}#sk-container-id-1 div.sk-dashed-wrapped {border: 1px dashed gray;margin: 0 0.4em 0.5em 0.4em;box-sizing: border-box;padding-bottom: 0.4em;background-color: white;}#sk-container-id-1 div.sk-label label {font-family: monospace;font-weight: bold;display: inline-block;line-height: 1.2em;}#sk-container-id-1 div.sk-label-container {text-align: center;}#sk-container-id-1 div.sk-container {/* jupyter's `normalize.less` sets `[hidden] { display: none; }` but bootstrap.min.css set `[hidden] { display: none !important; }` so we also need the `!important` here to be able to override the default hidden behavior on the sphinx rendered scikit-learn.org. See: https://github.com/scikit-learn/scikit-learn/issues/21755 */display: inline-block !important;position: relative;}#sk-container-id-1 div.sk-text-repr-fallback {display: none;}</style><div id=\"sk-container-id-1\" class=\"sk-top-container\"><div class=\"sk-text-repr-fallback\"><pre>GridSearchCV(cv=5,\n",
       "             estimator=DecisionTreeRegressor(min_samples_leaf=5,\n",
       "                                             min_samples_split=20,\n",
       "                                             random_state=10),\n",
       "             param_grid={&#x27;ccp_alpha&#x27;: array([0.00000000e+00, 2.04081633e-05, 4.08163265e-05, 6.12244898e-05,\n",
       "       8.16326531e-05, 1.02040816e-04, 1.22448980e-04, 1.42857143e-04,\n",
       "       1.63265306e-04, 1.83673469e-04, 2.04081633e-04, 2.24489796e-04,\n",
       "       2.44897959e-04, 2.65306122e-04, 2....\n",
       "       4.89795918e-04, 5.10204082e-04, 5.30612245e-04, 5.51020408e-04,\n",
       "       5.71428571e-04, 5.91836735e-04, 6.12244898e-04, 6.32653061e-04,\n",
       "       6.53061224e-04, 6.73469388e-04, 6.93877551e-04, 7.14285714e-04,\n",
       "       7.34693878e-04, 7.55102041e-04, 7.75510204e-04, 7.95918367e-04,\n",
       "       8.16326531e-04, 8.36734694e-04, 8.57142857e-04, 8.77551020e-04,\n",
       "       8.97959184e-04, 9.18367347e-04, 9.38775510e-04, 9.59183673e-04,\n",
       "       9.79591837e-04, 1.00000000e-03])},\n",
       "             scoring=&#x27;r2&#x27;)</pre><b>In a Jupyter environment, please rerun this cell to show the HTML representation or trust the notebook. <br />On GitHub, the HTML representation is unable to render, please try loading this page with nbviewer.org.</b></div><div class=\"sk-container\" hidden><div class=\"sk-item sk-dashed-wrapped\"><div class=\"sk-label-container\"><div class=\"sk-label sk-toggleable\"><input class=\"sk-toggleable__control sk-hidden--visually\" id=\"sk-estimator-id-1\" type=\"checkbox\" ><label for=\"sk-estimator-id-1\" class=\"sk-toggleable__label sk-toggleable__label-arrow\">GridSearchCV</label><div class=\"sk-toggleable__content\"><pre>GridSearchCV(cv=5,\n",
       "             estimator=DecisionTreeRegressor(min_samples_leaf=5,\n",
       "                                             min_samples_split=20,\n",
       "                                             random_state=10),\n",
       "             param_grid={&#x27;ccp_alpha&#x27;: array([0.00000000e+00, 2.04081633e-05, 4.08163265e-05, 6.12244898e-05,\n",
       "       8.16326531e-05, 1.02040816e-04, 1.22448980e-04, 1.42857143e-04,\n",
       "       1.63265306e-04, 1.83673469e-04, 2.04081633e-04, 2.24489796e-04,\n",
       "       2.44897959e-04, 2.65306122e-04, 2....\n",
       "       4.89795918e-04, 5.10204082e-04, 5.30612245e-04, 5.51020408e-04,\n",
       "       5.71428571e-04, 5.91836735e-04, 6.12244898e-04, 6.32653061e-04,\n",
       "       6.53061224e-04, 6.73469388e-04, 6.93877551e-04, 7.14285714e-04,\n",
       "       7.34693878e-04, 7.55102041e-04, 7.75510204e-04, 7.95918367e-04,\n",
       "       8.16326531e-04, 8.36734694e-04, 8.57142857e-04, 8.77551020e-04,\n",
       "       8.97959184e-04, 9.18367347e-04, 9.38775510e-04, 9.59183673e-04,\n",
       "       9.79591837e-04, 1.00000000e-03])},\n",
       "             scoring=&#x27;r2&#x27;)</pre></div></div></div><div class=\"sk-parallel\"><div class=\"sk-parallel-item\"><div class=\"sk-item\"><div class=\"sk-label-container\"><div class=\"sk-label sk-toggleable\"><input class=\"sk-toggleable__control sk-hidden--visually\" id=\"sk-estimator-id-2\" type=\"checkbox\" ><label for=\"sk-estimator-id-2\" class=\"sk-toggleable__label sk-toggleable__label-arrow\">estimator: DecisionTreeRegressor</label><div class=\"sk-toggleable__content\"><pre>DecisionTreeRegressor(min_samples_leaf=5, min_samples_split=20, random_state=10)</pre></div></div></div><div class=\"sk-serial\"><div class=\"sk-item\"><div class=\"sk-estimator sk-toggleable\"><input class=\"sk-toggleable__control sk-hidden--visually\" id=\"sk-estimator-id-3\" type=\"checkbox\" ><label for=\"sk-estimator-id-3\" class=\"sk-toggleable__label sk-toggleable__label-arrow\">DecisionTreeRegressor</label><div class=\"sk-toggleable__content\"><pre>DecisionTreeRegressor(min_samples_leaf=5, min_samples_split=20, random_state=10)</pre></div></div></div></div></div></div></div></div></div></div>"
      ],
      "text/plain": [
       "GridSearchCV(cv=5,\n",
       "             estimator=DecisionTreeRegressor(min_samples_leaf=5,\n",
       "                                             min_samples_split=20,\n",
       "                                             random_state=10),\n",
       "             param_grid={'ccp_alpha': array([0.00000000e+00, 2.04081633e-05, 4.08163265e-05, 6.12244898e-05,\n",
       "       8.16326531e-05, 1.02040816e-04, 1.22448980e-04, 1.42857143e-04,\n",
       "       1.63265306e-04, 1.83673469e-04, 2.04081633e-04, 2.24489796e-04,\n",
       "       2.44897959e-04, 2.65306122e-04, 2....\n",
       "       4.89795918e-04, 5.10204082e-04, 5.30612245e-04, 5.51020408e-04,\n",
       "       5.71428571e-04, 5.91836735e-04, 6.12244898e-04, 6.32653061e-04,\n",
       "       6.53061224e-04, 6.73469388e-04, 6.93877551e-04, 7.14285714e-04,\n",
       "       7.34693878e-04, 7.55102041e-04, 7.75510204e-04, 7.95918367e-04,\n",
       "       8.16326531e-04, 8.36734694e-04, 8.57142857e-04, 8.77551020e-04,\n",
       "       8.97959184e-04, 9.18367347e-04, 9.38775510e-04, 9.59183673e-04,\n",
       "       9.79591837e-04, 1.00000000e-03])},\n",
       "             scoring='r2')"
      ]
     },
     "execution_count": 16,
     "metadata": {},
     "output_type": "execute_result"
    }
   ],
   "source": [
    "\n",
    "\n",
    "grid_values = {'ccp_alpha': np.linspace(0, 0.001, 50)}\n",
    "\n",
    "dtr = DecisionTreeRegressor(min_samples_leaf=5, min_samples_split=20, random_state=10)\n",
    "dtr_cv = GridSearchCV(dtr, param_grid=grid_values, scoring='r2', cv=5, verbose=0)\n",
    "dtr_cv.fit(x_CTR_train, y_CTR_train)"
   ]
  },
  {
   "cell_type": "code",
   "execution_count": 17,
   "id": "33a65859",
   "metadata": {},
   "outputs": [],
   "source": [
    "ccp_alpha = dtr_cv.cv_results_['param_ccp_alpha'].data\n",
    "R2_scores = dtr_cv.cv_results_['mean_test_score']\n"
   ]
  },
  {
   "cell_type": "code",
   "execution_count": 18,
   "id": "984cf1cd",
   "metadata": {},
   "outputs": [],
   "source": [
    "# pd.DataFrame({'ccp alpha' : ccp_alpha, 'R2': R2_scores}).head(20)"
   ]
  },
  {
   "cell_type": "code",
   "execution_count": 19,
   "id": "c912a88d",
   "metadata": {},
   "outputs": [
    {
     "data": {
      "image/png": "[encoded data removed]",
      "text/plain": [
       "<Figure size 432x288 with 1 Axes>"
      ]
     },
     "metadata": {
      "needs_background": "light"
     },
     "output_type": "display_data"
    }
   ],
   "source": [
    "plt.scatter(ccp_alpha, R2_scores, s=2)\n",
    "plt.plot(ccp_alpha, R2_scores, linewidth=3)\n",
    "plt.grid(True, which='both')\n",
    "plt.show()"
   ]
  },
  {
   "cell_type": "code",
   "execution_count": 20,
   "id": "b31216f1",
   "metadata": {},
   "outputs": [
    {
     "name": "stdout",
     "output_type": "stream",
     "text": [
      "Best ccp_alpha {'ccp_alpha': 0.0007755102040816326}\n"
     ]
    }
   ],
   "source": [
    "print('Best ccp_alpha', dtr_cv.best_params_)"
   ]
  },
  {
   "cell_type": "markdown",
   "id": "21538fc9",
   "metadata": {},
   "source": [
    "###  cross-validation and complexity parameter value"
   ]
  },
  {
   "cell_type": "markdown",
   "id": "9f298d8e",
   "metadata": {},
   "source": [
    "The cross validation technique used is Kfold for 5 folds. The 5 fold technique divides the dataset into 5 parts and it is run for 5 iterations. Each iteration trains on the remaining 4 folds and test as one fold. Corresponding metrics are performed on the test fold. \n",
    "Each fold is diverse and after all the iterations, the metrics(r2,accuracy etc) are aggregated to get the final value to evaluate the models performance.We make the model better using grid search.The idea is to specify a range of values for a parameter we can set in the model and combinations  across all the different values in the range and run and this is evaluated.\n",
    "\n",
    "In this case, we have used cpp as the parameter with a range of values. \n",
    "When grid search is combined with the model using cross validation, we run the model with different values of cpp in the range specified. \n",
    "\n",
    "Finally all these models with different cpp values are compared and the model with the best metric(scoring parameter set here is r2) and the cpp for the model with the best r2 is given as the best cpp parameter(in this case =0.00077)  "
   ]
  },
  {
   "cell_type": "code",
   "execution_count": 21,
   "id": "993c8dba",
   "metadata": {},
   "outputs": [
    {
     "name": "stdout",
     "output_type": "stream",
     "text": [
      "CV R2: 0.16258\n",
      "OSR2: 0.17348\n"
     ]
    }
   ],
   "source": [
    "print('CV R2:', round(dtr_cv.best_score_, 5))\n",
    "print('OSR2:', round(r2_score(y_CTR_test, dtr_cv.predict(x_CTR_test)), 5))"
   ]
  },
  {
   "cell_type": "code",
   "execution_count": 22,
   "id": "2cd3476a",
   "metadata": {},
   "outputs": [],
   "source": [
    "y_pred = dtr_cv.predict(x_CTR_test)"
   ]
  },
  {
   "cell_type": "code",
   "execution_count": 23,
   "id": "b7f0e432",
   "metadata": {},
   "outputs": [],
   "source": [
    "def mae2(y_true, predictions):\n",
    "    y_true, predictions = np.array(y_true), np.array(predictions)\n",
    "    return np.mean(np.abs(y_true - predictions))\n",
    "    "
   ]
  },
  {
   "cell_type": "code",
   "execution_count": 24,
   "id": "f48d8d1f",
   "metadata": {},
   "outputs": [],
   "source": [
    "pred_CTR=dtr_cv.predict(x_CTR_test)"
   ]
  },
  {
   "cell_type": "code",
   "execution_count": 25,
   "id": "7b5eb207",
   "metadata": {},
   "outputs": [
    {
     "name": "stdout",
     "output_type": "stream",
     "text": [
      "0.6222700732192287\n"
     ]
    }
   ],
   "source": [
    "mae=mae2(y_CTR_test,pred_CTR)\n",
    "print(mae)"
   ]
  },
  {
   "cell_type": "markdown",
   "id": "635e32e8",
   "metadata": {},
   "source": [
    "## Comparison"
   ]
  },
  {
   "cell_type": "markdown",
   "id": "b1a4dd3d",
   "metadata": {},
   "source": [
    "Linear Regression - \n",
    "<br />\n",
    "OSR2-0.15097762949425841\n",
    "<br />\n",
    "MAE-0.6406880153775292\n"
   ]
  },
  {
   "cell_type": "markdown",
   "id": "73d177cb",
   "metadata": {},
   "source": [
    "Decision tree classifier:\n",
    "<br />\n",
    "OSR2 - 0.17348\n",
    "<br />\n",
    "MAE - 0.6222700732192287"
   ]
  },
  {
   "cell_type": "markdown",
   "id": "4e592761",
   "metadata": {},
   "source": [
    "The Decision tree classifier is a better performing model as it has a higher OSR2 and a lower Mean Absolute Error which implies that the predicted values match the real values much better than the Linear Regression."
   ]
  },
  {
   "cell_type": "markdown",
   "id": "a4d1c5b8",
   "metadata": {},
   "source": [
    "### c) Random Forest"
   ]
  },
  {
   "cell_type": "code",
   "execution_count": 26,
   "id": "d9f88850",
   "metadata": {},
   "outputs": [],
   "source": [
    "np.random.seed(10)"
   ]
  },
  {
   "cell_type": "code",
   "execution_count": 27,
   "id": "8466a181",
   "metadata": {},
   "outputs": [],
   "source": [
    "#getdummies\n",
    "\n",
    "RF_train=pd.get_dummies(pd.read_csv('yelp242_train.csv'))\n",
    "RF_test=pd.get_dummies(pd.read_csv('yelp242_test.csv'))\n",
    "y_RF_train = RF_train['stars']\n",
    "x_RF_train = RF_train.drop(['stars'], axis=1)\n",
    "\n",
    "y_RF_test=RF_test['stars']\n",
    "x_RF_test = RF_test.drop(['stars'], axis=1)"
   ]
  },
  {
   "cell_type": "code",
   "execution_count": 28,
   "id": "fadeaca0",
   "metadata": {},
   "outputs": [
    {
     "data": {
      "text/html": [
       "<div>\n",
       "<style scoped>\n",
       "    .dataframe tbody tr th:only-of-type {\n",
       "        vertical-align: middle;\n",
       "    }\n",
       "\n",
       "    .dataframe tbody tr th {\n",
       "        vertical-align: top;\n",
       "    }\n",
       "\n",
       "    .dataframe thead th {\n",
       "        text-align: right;\n",
       "    }\n",
       "</style>\n",
       "<table border=\"1\" class=\"dataframe\">\n",
       "  <thead>\n",
       "    <tr style=\"text-align: right;\">\n",
       "      <th></th>\n",
       "      <th>review_count</th>\n",
       "      <th>GoodForKids_(Missing)</th>\n",
       "      <th>GoodForKids_FALSE</th>\n",
       "      <th>GoodForKids_TRUE</th>\n",
       "      <th>Alcohol_'beer_and_wine'</th>\n",
       "      <th>Alcohol_'full_bar'</th>\n",
       "      <th>Alcohol_'none'</th>\n",
       "      <th>Alcohol_(Missing)</th>\n",
       "      <th>BusinessAcceptsCreditCards_(Missing)</th>\n",
       "      <th>BusinessAcceptsCreditCards_FALSE</th>\n",
       "      <th>...</th>\n",
       "      <th>OutdoorSeating_TRUE</th>\n",
       "      <th>RestaurantsReservations_(Missing)</th>\n",
       "      <th>RestaurantsReservations_FALSE</th>\n",
       "      <th>RestaurantsReservations_TRUE</th>\n",
       "      <th>DogsAllowed_(Missing)</th>\n",
       "      <th>DogsAllowed_FALSE</th>\n",
       "      <th>DogsAllowed_TRUE</th>\n",
       "      <th>Caters_(Missing)</th>\n",
       "      <th>Caters_FALSE</th>\n",
       "      <th>Caters_TRUE</th>\n",
       "    </tr>\n",
       "  </thead>\n",
       "  <tbody>\n",
       "    <tr>\n",
       "      <th>0</th>\n",
       "      <td>153</td>\n",
       "      <td>0</td>\n",
       "      <td>1</td>\n",
       "      <td>0</td>\n",
       "      <td>1</td>\n",
       "      <td>0</td>\n",
       "      <td>0</td>\n",
       "      <td>0</td>\n",
       "      <td>0</td>\n",
       "      <td>0</td>\n",
       "      <td>...</td>\n",
       "      <td>0</td>\n",
       "      <td>0</td>\n",
       "      <td>0</td>\n",
       "      <td>1</td>\n",
       "      <td>0</td>\n",
       "      <td>1</td>\n",
       "      <td>0</td>\n",
       "      <td>0</td>\n",
       "      <td>1</td>\n",
       "      <td>0</td>\n",
       "    </tr>\n",
       "    <tr>\n",
       "      <th>1</th>\n",
       "      <td>19</td>\n",
       "      <td>0</td>\n",
       "      <td>0</td>\n",
       "      <td>1</td>\n",
       "      <td>0</td>\n",
       "      <td>0</td>\n",
       "      <td>0</td>\n",
       "      <td>1</td>\n",
       "      <td>0</td>\n",
       "      <td>0</td>\n",
       "      <td>...</td>\n",
       "      <td>0</td>\n",
       "      <td>0</td>\n",
       "      <td>1</td>\n",
       "      <td>0</td>\n",
       "      <td>1</td>\n",
       "      <td>0</td>\n",
       "      <td>0</td>\n",
       "      <td>1</td>\n",
       "      <td>0</td>\n",
       "      <td>0</td>\n",
       "    </tr>\n",
       "    <tr>\n",
       "      <th>2</th>\n",
       "      <td>3</td>\n",
       "      <td>0</td>\n",
       "      <td>0</td>\n",
       "      <td>1</td>\n",
       "      <td>0</td>\n",
       "      <td>1</td>\n",
       "      <td>0</td>\n",
       "      <td>0</td>\n",
       "      <td>0</td>\n",
       "      <td>0</td>\n",
       "      <td>...</td>\n",
       "      <td>1</td>\n",
       "      <td>1</td>\n",
       "      <td>0</td>\n",
       "      <td>0</td>\n",
       "      <td>1</td>\n",
       "      <td>0</td>\n",
       "      <td>0</td>\n",
       "      <td>1</td>\n",
       "      <td>0</td>\n",
       "      <td>0</td>\n",
       "    </tr>\n",
       "    <tr>\n",
       "      <th>3</th>\n",
       "      <td>775</td>\n",
       "      <td>0</td>\n",
       "      <td>0</td>\n",
       "      <td>1</td>\n",
       "      <td>0</td>\n",
       "      <td>0</td>\n",
       "      <td>1</td>\n",
       "      <td>0</td>\n",
       "      <td>0</td>\n",
       "      <td>0</td>\n",
       "      <td>...</td>\n",
       "      <td>1</td>\n",
       "      <td>0</td>\n",
       "      <td>0</td>\n",
       "      <td>1</td>\n",
       "      <td>1</td>\n",
       "      <td>0</td>\n",
       "      <td>0</td>\n",
       "      <td>0</td>\n",
       "      <td>0</td>\n",
       "      <td>1</td>\n",
       "    </tr>\n",
       "    <tr>\n",
       "      <th>4</th>\n",
       "      <td>24</td>\n",
       "      <td>0</td>\n",
       "      <td>0</td>\n",
       "      <td>1</td>\n",
       "      <td>0</td>\n",
       "      <td>1</td>\n",
       "      <td>0</td>\n",
       "      <td>0</td>\n",
       "      <td>0</td>\n",
       "      <td>0</td>\n",
       "      <td>...</td>\n",
       "      <td>0</td>\n",
       "      <td>0</td>\n",
       "      <td>0</td>\n",
       "      <td>1</td>\n",
       "      <td>1</td>\n",
       "      <td>0</td>\n",
       "      <td>0</td>\n",
       "      <td>1</td>\n",
       "      <td>0</td>\n",
       "      <td>0</td>\n",
       "    </tr>\n",
       "  </tbody>\n",
       "</table>\n",
       "<p>5 rows × 36 columns</p>\n",
       "</div>"
      ],
      "text/plain": [
       "   review_count  GoodForKids_(Missing)  GoodForKids_FALSE  GoodForKids_TRUE  \\\n",
       "0           153                      0                  1                 0   \n",
       "1            19                      0                  0                 1   \n",
       "2             3                      0                  0                 1   \n",
       "3           775                      0                  0                 1   \n",
       "4            24                      0                  0                 1   \n",
       "\n",
       "   Alcohol_'beer_and_wine'  Alcohol_'full_bar'  Alcohol_'none'  \\\n",
       "0                        1                   0               0   \n",
       "1                        0                   0               0   \n",
       "2                        0                   1               0   \n",
       "3                        0                   0               1   \n",
       "4                        0                   1               0   \n",
       "\n",
       "   Alcohol_(Missing)  BusinessAcceptsCreditCards_(Missing)  \\\n",
       "0                  0                                     0   \n",
       "1                  1                                     0   \n",
       "2                  0                                     0   \n",
       "3                  0                                     0   \n",
       "4                  0                                     0   \n",
       "\n",
       "   BusinessAcceptsCreditCards_FALSE  ...  OutdoorSeating_TRUE  \\\n",
       "0                                 0  ...                    0   \n",
       "1                                 0  ...                    0   \n",
       "2                                 0  ...                    1   \n",
       "3                                 0  ...                    1   \n",
       "4                                 0  ...                    0   \n",
       "\n",
       "   RestaurantsReservations_(Missing)  RestaurantsReservations_FALSE  \\\n",
       "0                                  0                              0   \n",
       "1                                  0                              1   \n",
       "2                                  1                              0   \n",
       "3                                  0                              0   \n",
       "4                                  0                              0   \n",
       "\n",
       "   RestaurantsReservations_TRUE  DogsAllowed_(Missing)  DogsAllowed_FALSE  \\\n",
       "0                             1                      0                  1   \n",
       "1                             0                      1                  0   \n",
       "2                             0                      1                  0   \n",
       "3                             1                      1                  0   \n",
       "4                             1                      1                  0   \n",
       "\n",
       "   DogsAllowed_TRUE  Caters_(Missing)  Caters_FALSE  Caters_TRUE  \n",
       "0                 0                 0             1            0  \n",
       "1                 0                 1             0            0  \n",
       "2                 0                 1             0            0  \n",
       "3                 0                 0             0            1  \n",
       "4                 0                 1             0            0  \n",
       "\n",
       "[5 rows x 36 columns]"
      ]
     },
     "execution_count": 28,
     "metadata": {},
     "output_type": "execute_result"
    }
   ],
   "source": [
    "x_RF_train.head()"
   ]
  },
  {
   "cell_type": "code",
   "execution_count": 29,
   "id": "930f9485",
   "metadata": {},
   "outputs": [
    {
     "data": {
      "text/html": [
       "<style>#sk-container-id-2 {color: black;background-color: white;}#sk-container-id-2 pre{padding: 0;}#sk-container-id-2 div.sk-toggleable {background-color: white;}#sk-container-id-2 label.sk-toggleable__label {cursor: pointer;display: block;width: 100%;margin-bottom: 0;padding: 0.3em;box-sizing: border-box;text-align: center;}#sk-container-id-2 label.sk-toggleable__label-arrow:before {content: \"▸\";float: left;margin-right: 0.25em;color: #696969;}#sk-container-id-2 label.sk-toggleable__label-arrow:hover:before {color: black;}#sk-container-id-2 div.sk-estimator:hover label.sk-toggleable__label-arrow:before {color: black;}#sk-container-id-2 div.sk-toggleable__content {max-height: 0;max-width: 0;overflow: hidden;text-align: left;background-color: #f0f8ff;}#sk-container-id-2 div.sk-toggleable__content pre {margin: 0.2em;color: black;border-radius: 0.25em;background-color: #f0f8ff;}#sk-container-id-2 input.sk-toggleable__control:checked~div.sk-toggleable__content {max-height: 200px;max-width: 100%;overflow: auto;}#sk-container-id-2 input.sk-toggleable__control:checked~label.sk-toggleable__label-arrow:before {content: \"▾\";}#sk-container-id-2 div.sk-estimator input.sk-toggleable__control:checked~label.sk-toggleable__label {background-color: #d4ebff;}#sk-container-id-2 div.sk-label input.sk-toggleable__control:checked~label.sk-toggleable__label {background-color: #d4ebff;}#sk-container-id-2 input.sk-hidden--visually {border: 0;clip: rect(1px 1px 1px 1px);clip: rect(1px, 1px, 1px, 1px);height: 1px;margin: -1px;overflow: hidden;padding: 0;position: absolute;width: 1px;}#sk-container-id-2 div.sk-estimator {font-family: monospace;background-color: #f0f8ff;border: 1px dotted black;border-radius: 0.25em;box-sizing: border-box;margin-bottom: 0.5em;}#sk-container-id-2 div.sk-estimator:hover {background-color: #d4ebff;}#sk-container-id-2 div.sk-parallel-item::after {content: \"\";width: 100%;border-bottom: 1px solid gray;flex-grow: 1;}#sk-container-id-2 div.sk-label:hover label.sk-toggleable__label {background-color: #d4ebff;}#sk-container-id-2 div.sk-serial::before {content: \"\";position: absolute;border-left: 1px solid gray;box-sizing: border-box;top: 0;bottom: 0;left: 50%;z-index: 0;}#sk-container-id-2 div.sk-serial {display: flex;flex-direction: column;align-items: center;background-color: white;padding-right: 0.2em;padding-left: 0.2em;position: relative;}#sk-container-id-2 div.sk-item {position: relative;z-index: 1;}#sk-container-id-2 div.sk-parallel {display: flex;align-items: stretch;justify-content: center;background-color: white;position: relative;}#sk-container-id-2 div.sk-item::before, #sk-container-id-2 div.sk-parallel-item::before {content: \"\";position: absolute;border-left: 1px solid gray;box-sizing: border-box;top: 0;bottom: 0;left: 50%;z-index: -1;}#sk-container-id-2 div.sk-parallel-item {display: flex;flex-direction: column;z-index: 1;position: relative;background-color: white;}#sk-container-id-2 div.sk-parallel-item:first-child::after {align-self: flex-end;width: 50%;}#sk-container-id-2 div.sk-parallel-item:last-child::after {align-self: flex-start;width: 50%;}#sk-container-id-2 div.sk-parallel-item:only-child::after {width: 0;}#sk-container-id-2 div.sk-dashed-wrapped {border: 1px dashed gray;margin: 0 0.4em 0.5em 0.4em;box-sizing: border-box;padding-bottom: 0.4em;background-color: white;}#sk-container-id-2 div.sk-label label {font-family: monospace;font-weight: bold;display: inline-block;line-height: 1.2em;}#sk-container-id-2 div.sk-label-container {text-align: center;}#sk-container-id-2 div.sk-container {/* jupyter's `normalize.less` sets `[hidden] { display: none; }` but bootstrap.min.css set `[hidden] { display: none !important; }` so we also need the `!important` here to be able to override the default hidden behavior on the sphinx rendered scikit-learn.org. See: https://github.com/scikit-learn/scikit-learn/issues/21755 */display: inline-block !important;position: relative;}#sk-container-id-2 div.sk-text-repr-fallback {display: none;}</style><div id=\"sk-container-id-2\" class=\"sk-top-container\"><div class=\"sk-text-repr-fallback\"><pre>RandomForestRegressor(max_features=5, min_samples_leaf=5, n_estimators=500)</pre><b>In a Jupyter environment, please rerun this cell to show the HTML representation or trust the notebook. <br />On GitHub, the HTML representation is unable to render, please try loading this page with nbviewer.org.</b></div><div class=\"sk-container\" hidden><div class=\"sk-item\"><div class=\"sk-estimator sk-toggleable\"><input class=\"sk-toggleable__control sk-hidden--visually\" id=\"sk-estimator-id-4\" type=\"checkbox\" checked><label for=\"sk-estimator-id-4\" class=\"sk-toggleable__label sk-toggleable__label-arrow\">RandomForestRegressor</label><div class=\"sk-toggleable__content\"><pre>RandomForestRegressor(max_features=5, min_samples_leaf=5, n_estimators=500)</pre></div></div></div></div></div>"
      ],
      "text/plain": [
       "RandomForestRegressor(max_features=5, min_samples_leaf=5, n_estimators=500)"
      ]
     },
     "execution_count": 29,
     "metadata": {},
     "output_type": "execute_result"
    }
   ],
   "source": [
    "from sklearn.ensemble import RandomForestRegressor\n",
    "\n",
    "\n",
    "rf = RandomForestRegressor(max_features=5, min_samples_leaf=5, n_estimators = 500)\n",
    "rf.fit(x_RF_train, y_RF_train)"
   ]
  },
  {
   "cell_type": "code",
   "execution_count": 30,
   "id": "6747879e",
   "metadata": {},
   "outputs": [
    {
     "name": "stdout",
     "output_type": "stream",
     "text": [
      "OSR2: 0.21899\n"
     ]
    }
   ],
   "source": [
    "print('OSR2:', round(r2_score(y_RF_test, rf.predict(x_RF_test)), 5))"
   ]
  },
  {
   "cell_type": "markdown",
   "id": "8edec6ce",
   "metadata": {},
   "source": [
    "#### limit the number of features used at any split"
   ]
  },
  {
   "cell_type": "markdown",
   "id": "74b788a5",
   "metadata": {},
   "source": [
    "Max_features hyperparameter.\n",
    "This resembles the number of maximum features provided to each tree in a random forest.\n",
    "\n",
    "Random forest models randomly resample features prior to determining the best split. Max_features determines the number of features to resample. Larger max_feature values can result in improved model performance because trees have a larger selection of features from which choose the best split, but can also cause trees to be less diverse and induce overfitting. The common theme here is one needs to identify an optimal value that balances overfitting and under-fitting. Common choices include:\n",
    "\n",
    "‘auto’: places no restrictions on the number of features,\n",
    "\n",
    "‘sqrt’: square root of the total number of features,\n",
    "\n",
    "‘log2’: base two logarithm of the total number of features.\n",
    "\n",
    "\n"
   ]
  },
  {
   "cell_type": "code",
   "execution_count": 31,
   "id": "11c9c69e",
   "metadata": {},
   "outputs": [
    {
     "name": "stdout",
     "output_type": "stream",
     "text": [
      "time: 48.54 s\n"
     ]
    }
   ],
   "source": [
    "#with CV = 5\n",
    "import time\n",
    "\n",
    "grid_values = {'max_features': np.linspace(1,18,9, dtype='int32'),\n",
    "              'min_samples_leaf': [5],\n",
    "              'n_estimators': [500],\n",
    "              'random_state': [10]} \n",
    "\n",
    "tic = time.time()\n",
    "\n",
    "rf = RandomForestRegressor() \n",
    "rf_cv = GridSearchCV(rf, param_grid=grid_values, scoring='r2', cv=5)\n",
    "rf_cv.fit(x_RF_train, y_RF_train)\n",
    "\n",
    "toc = time.time()\n",
    "print('time:', round(toc-tic, 2),'s')\n"
   ]
  },
  {
   "cell_type": "code",
   "execution_count": 32,
   "id": "1224ca50",
   "metadata": {},
   "outputs": [],
   "source": [
    "max_features = rf_cv.cv_results_['param_max_features'].data\n",
    "R2_scores = rf_cv.cv_results_['mean_test_score']"
   ]
  },
  {
   "cell_type": "code",
   "execution_count": 33,
   "id": "70fad3ec",
   "metadata": {},
   "outputs": [
    {
     "data": {
      "image/png": "[encoded data removed]",
      "text/plain": [
       "<Figure size 576x432 with 1 Axes>"
      ]
     },
     "metadata": {
      "needs_background": "light"
     },
     "output_type": "display_data"
    }
   ],
   "source": [
    "\n",
    "\n",
    "plt.figure(figsize=(8, 6))\n",
    "plt.xlabel('max features', fontsize=16)\n",
    "plt.ylabel('CV R2', fontsize=16)\n",
    "plt.scatter(max_features, R2_scores, s=30)\n",
    "plt.plot(max_features, R2_scores, linewidth=3)\n",
    "plt.grid(True, which='both')\n",
    "# plt.xlim([1, 19])\n",
    "# plt.ylim([0.3, 0.6])"
   ]
  },
  {
   "cell_type": "code",
   "execution_count": 34,
   "id": "4857d6d8",
   "metadata": {},
   "outputs": [
    {
     "name": "stdout",
     "output_type": "stream",
     "text": [
      "{'max_features': 7, 'min_samples_leaf': 5, 'n_estimators': 500, 'random_state': 10}\n"
     ]
    }
   ],
   "source": [
    "print(rf_cv.best_params_)"
   ]
  },
  {
   "cell_type": "code",
   "execution_count": 35,
   "id": "a829e3df",
   "metadata": {},
   "outputs": [
    {
     "name": "stdout",
     "output_type": "stream",
     "text": [
      "CV R2: 0.22203\n",
      "OSR2: 0.22223\n"
     ]
    }
   ],
   "source": [
    "print('CV R2:', round(rf_cv.best_score_, 5))\n",
    "print('OSR2:', round(r2_score(y_RF_test, rf_cv.predict(x_RF_test)), 5))"
   ]
  },
  {
   "cell_type": "markdown",
   "id": "978d53a6",
   "metadata": {},
   "source": [
    "### d) Bootstrap"
   ]
  },
  {
   "cell_type": "markdown",
   "id": "a8a448b9",
   "metadata": {},
   "source": [
    "#### Describe the bootstrap procedure as a general statistical procedure and explain why it is useful."
   ]
  },
  {
   "cell_type": "markdown",
   "id": "29689706",
   "metadata": {},
   "source": [
    "Bootstrapping is a statistical procedure that resamples a single dataset to create many simulated samples. This process allows you to calculate standard errors, construct confidence intervals, and perform hypothesis testing for numerous types of sample statistics. Bootstrap methods are alternative approaches to traditional hypothesis testing and are notable for being easier to understand and valid for more conditions."
   ]
  },
  {
   "cell_type": "markdown",
   "id": "b3d14d1a",
   "metadata": {},
   "source": [
    "###  general bootstrap procedure"
   ]
  },
  {
   "cell_type": "markdown",
   "id": "ec756520",
   "metadata": {},
   "source": [
    "The bootstrap method is a statistical technique for estimating quantities about a population by averaging estimates from multiple small data samples.\n",
    "\n",
    "Importantly, samples are constructed by drawing observations from a large data sample one at a time and returning them to the data sample after they have been chosen. This allows a given observation to be included in a given small sample more than once. This approach to sampling is called sampling with replacement.\n",
    "\n",
    "The process for building one sample can be summarized as follows:<br>\n",
    "\n",
    "Choose the size of the sample.<br>\n",
    "While the size of the sample is less than the chosen size<br>\n",
    "Randomly select an observation from the dataset<br>\n",
    "Add it to the sample<br>\n",
    "The bootstrap method can be used to estimate a quantity of a population. This is done by repeatedly taking small samples, calculating the statistic, and taking the average of the calculated statistics. We can summarize this procedure as follows:<br>\n",
    "\n",
    "Choose a number of bootstrap samples to perform<br>\n",
    "Choose a sample size<br>\n",
    "For each bootstrap sample<br>\n",
    "Draw a sample with replacement with the chosen size<br>\n",
    "Calculate the statistic on the sample<br>\n",
    "Calculate the mean of the calculated sample statistics.<br>\n",
    "The procedure can also be used to estimate the skill of a machine learning model.<br>\n",
    "\n",
    "\n",
    "\n",
    "This is done by training the model on the sample and evaluating the skill of the model on those samples not included in the sample. These samples not included in a given sample are called the out-of-bag samples, or OOB for short.<br>\n",
    "\n",
    "This procedure of using the bootstrap method to estimate the skill of the model can be summarized as follows:<br>\n",
    "\n",
    "Choose a number of bootstrap samples to perform<br>\n",
    "Choose a sample size<br>\n",
    "For each bootstrap sample<br>\n",
    "Draw a sample with replacement with the chosen size<br>\n",
    "Fit a model on the data sample<br>\n",
    "Estimate the skill of the model on the out-of-bag sample.<br>\n",
    "Calculate the mean of the sample of model skill estimates.<br>\n",
    "The samples not selected are usually referred to as the “out-of-bag” samples. For a given iteration of bootstrap resampling, a model is built on the selected samples and is used to predict the out-of-bag samples.<br>\n",
    "\n",
    "Importantly, any data preparation prior to fitting the model or tuning of the hyperparameter of the model must occur within the for-loop on the data sample. This is to avoid data leakage where knowledge of the test dataset is used to improve the model. This, in turn, can result in an optimistic estimate of the model skill.<br>\n",
    "\n",
    "A useful feature of the bootstrap method is that the resulting sample of estimations often forms a Gaussian distribution. In additional to summarizing this distribution with a central tendency, measures of variance can be given, such as standard deviation and standard error. Further, a confidence interval can be calculated and used to bound the presented estimate. This is useful when presenting the estimated skill of a machine learning model.<br>\n",
    "\n",
    "\n",
    "sources:machinelearningmastery.com"
   ]
  },
  {
   "cell_type": "code",
   "execution_count": 36,
   "id": "73e65943",
   "metadata": {},
   "outputs": [],
   "source": [
    "#metrics\n",
    "\n",
    "\n",
    "def OS_R_squared(predictions, y_test,y_train):\n",
    "    SSE = np.sum((y_test-predictions)**2)\n",
    "    SST = np.sum((y_test-np.mean(y_train))**2)\n",
    "    r2 = 1-SSE/SST\n",
    "    return r2\n",
    "\n",
    "def mean_squared_error(predictions, y_test,y_train):\n",
    "    MSE = np.mean((y_test-predictions)**2)\n",
    "    return MSE\n",
    "\n",
    "def mean_absolute_error(predictions, y_test,y_train):\n",
    "    MAE = np.mean(np.abs(y_test-predictions))\n",
    "    return MAE"
   ]
  },
  {
   "cell_type": "code",
   "execution_count": 37,
   "id": "fb8ddaf1",
   "metadata": {},
   "outputs": [
    {
     "name": "stdout",
     "output_type": "stream",
     "text": [
      "OSR2: 0.22230516703194747\n",
      "MSE: 0.5791998809983638\n",
      "MAE: 0.6070644457369029\n"
     ]
    }
   ],
   "source": [
    "y_pred = rf_cv.predict(x_RF_test)\n",
    "print(\"OSR2: %s\" % OS_R_squared(y_pred,y_RF_test,y_RF_train))\n",
    "print(\"MSE: %s\" % mean_squared_error(y_pred,y_RF_test,y_RF_train))\n",
    "print(\"MAE: %s\" % mean_absolute_error(y_pred,y_RF_test,y_RF_train))"
   ]
  },
  {
   "cell_type": "code",
   "execution_count": 38,
   "id": "a54317ec",
   "metadata": {},
   "outputs": [
    {
     "name": "stdout",
     "output_type": "stream",
     "text": [
      "OSR2: 0.22223\n",
      "MSE: 0.5791998809983638\n",
      "MAE: 0.6070644457369029\n"
     ]
    }
   ],
   "source": [
    "print('OSR2:', round(r2_score(y_RF_test, rf_cv.predict(x_RF_test)), 5))\n",
    "print(\"MSE: %s\" % np.mean((y_pred-y_RF_test)**2))\n",
    "print(\"MAE: %s\" % np.mean(np.abs(y_pred-y_RF_test)))"
   ]
  },
  {
   "cell_type": "code",
   "execution_count": 39,
   "id": "b499a497",
   "metadata": {},
   "outputs": [],
   "source": [
    "import time\n",
    "\n",
    "def bootstrap_validation(test_data, test_label, train_label, model, metrics_list, sample=500, random_state=10):\n",
    "    tic = time.time()\n",
    "    n_sample = sample\n",
    "    n_metrics = len(metrics_list)\n",
    "    output_array=np.zeros([n_sample, n_metrics])\n",
    "    output_array[:]=np.nan\n",
    "    print(output_array.shape)\n",
    "    for bs_iter in range(n_sample):\n",
    "        bs_index = np.random.choice(test_data.index, len(test_data.index), replace=True)\n",
    "        bs_data = test_data.loc[bs_index]\n",
    "        bs_label = test_label.loc[bs_index]\n",
    "        bs_predicted = model.predict(bs_data)\n",
    "        for metrics_iter in range(n_metrics):\n",
    "            metrics = metrics_list[metrics_iter]\n",
    "            output_array[bs_iter, metrics_iter]=metrics(bs_predicted,bs_label,train_label)\n",
    "        if bs_iter % 100 == 0:\n",
    "            print(bs_iter, time.time()-tic)\n",
    "    output_df = pd.DataFrame(output_array)\n",
    "    return output_df"
   ]
  },
  {
   "cell_type": "code",
   "execution_count": 40,
   "id": "a46ac5b6",
   "metadata": {},
   "outputs": [],
   "source": [
    "#DecisionTree regressor"
   ]
  },
  {
   "cell_type": "code",
   "execution_count": 41,
   "id": "a48999f4",
   "metadata": {},
   "outputs": [
    {
     "name": "stdout",
     "output_type": "stream",
     "text": [
      "(5000, 2)\n",
      "0 0.0037071704864501953\n",
      "100 0.13852787017822266\n",
      "200 0.2721741199493408\n",
      "300 0.4048120975494385\n",
      "400 0.5403938293457031\n",
      "500 0.6729168891906738\n",
      "600 0.803825855255127\n",
      "700 0.9349339008331299\n",
      "800 1.0671780109405518\n",
      "900 1.199141025543213\n",
      "1000 1.3303749561309814\n",
      "1100 1.460533857345581\n",
      "1200 1.5905039310455322\n",
      "1300 1.7209441661834717\n",
      "1400 1.8520359992980957\n",
      "1500 1.9830379486083984\n",
      "1600 2.1136670112609863\n",
      "1700 2.2475790977478027\n",
      "1800 2.3785130977630615\n",
      "1900 2.5087730884552\n",
      "2000 2.6395208835601807\n",
      "2100 2.77046799659729\n",
      "2200 2.9007458686828613\n",
      "2300 3.0322160720825195\n",
      "2400 3.161073923110962\n",
      "2500 3.291404962539673\n",
      "2600 3.4201459884643555\n",
      "2700 3.548520803451538\n",
      "2800 3.6767847537994385\n",
      "2900 3.8080649375915527\n",
      "3000 3.9390718936920166\n",
      "3100 4.069717884063721\n",
      "3200 4.199923992156982\n",
      "3300 4.32873010635376\n",
      "3400 4.459435939788818\n",
      "3500 4.591628074645996\n",
      "3600 4.7238640785217285\n",
      "3700 4.855717182159424\n",
      "3800 4.988086938858032\n",
      "3900 5.119127035140991\n",
      "4000 5.2526960372924805\n",
      "4100 5.385271072387695\n",
      "4200 5.516430139541626\n",
      "4300 5.649507999420166\n",
      "4400 5.782064914703369\n",
      "4500 5.912423849105835\n",
      "4600 6.045478105545044\n",
      "4700 6.176422119140625\n",
      "4800 6.30842399597168\n",
      "4900 6.438575029373169\n"
     ]
    }
   ],
   "source": [
    "bs_output_RT = bootstrap_validation(x_CTR_test,y_CTR_test,y_CTR_train,dtr_cv,\n",
    "                                 metrics_list=[OS_R_squared,mean_absolute_error],\n",
    "                                 sample = 5000)"
   ]
  },
  {
   "cell_type": "code",
   "execution_count": 42,
   "id": "c77d0c4f",
   "metadata": {},
   "outputs": [
    {
     "data": {
      "text/html": [
       "<div>\n",
       "<style scoped>\n",
       "    .dataframe tbody tr th:only-of-type {\n",
       "        vertical-align: middle;\n",
       "    }\n",
       "\n",
       "    .dataframe tbody tr th {\n",
       "        vertical-align: top;\n",
       "    }\n",
       "\n",
       "    .dataframe thead th {\n",
       "        text-align: right;\n",
       "    }\n",
       "</style>\n",
       "<table border=\"1\" class=\"dataframe\">\n",
       "  <thead>\n",
       "    <tr style=\"text-align: right;\">\n",
       "      <th></th>\n",
       "      <th>0</th>\n",
       "      <th>1</th>\n",
       "    </tr>\n",
       "  </thead>\n",
       "  <tbody>\n",
       "    <tr>\n",
       "      <th>0</th>\n",
       "      <td>0.184471</td>\n",
       "      <td>0.618161</td>\n",
       "    </tr>\n",
       "    <tr>\n",
       "      <th>1</th>\n",
       "      <td>0.172222</td>\n",
       "      <td>0.626406</td>\n",
       "    </tr>\n",
       "    <tr>\n",
       "      <th>2</th>\n",
       "      <td>0.170352</td>\n",
       "      <td>0.629122</td>\n",
       "    </tr>\n",
       "    <tr>\n",
       "      <th>3</th>\n",
       "      <td>0.182700</td>\n",
       "      <td>0.613968</td>\n",
       "    </tr>\n",
       "    <tr>\n",
       "      <th>4</th>\n",
       "      <td>0.186027</td>\n",
       "      <td>0.615637</td>\n",
       "    </tr>\n",
       "  </tbody>\n",
       "</table>\n",
       "</div>"
      ],
      "text/plain": [
       "          0         1\n",
       "0  0.184471  0.618161\n",
       "1  0.172222  0.626406\n",
       "2  0.170352  0.629122\n",
       "3  0.182700  0.613968\n",
       "4  0.186027  0.615637"
      ]
     },
     "execution_count": 42,
     "metadata": {},
     "output_type": "execute_result"
    }
   ],
   "source": [
    "bs_output_RT.head()"
   ]
  },
  {
   "cell_type": "code",
   "execution_count": 43,
   "id": "25fab823",
   "metadata": {},
   "outputs": [],
   "source": [
    "y_pred_RT=dtr_cv.predict(x_CTR_test)"
   ]
  },
  {
   "cell_type": "code",
   "execution_count": 44,
   "id": "9be55322",
   "metadata": {},
   "outputs": [
    {
     "data": {
      "text/plain": [
       "0       0.184471\n",
       "1       0.172222\n",
       "2       0.170352\n",
       "3       0.182700\n",
       "4       0.186027\n",
       "          ...   \n",
       "4995    0.184430\n",
       "4996    0.159754\n",
       "4997    0.139474\n",
       "4998    0.157076\n",
       "4999    0.182538\n",
       "Name: 0, Length: 5000, dtype: float64"
      ]
     },
     "execution_count": 44,
     "metadata": {},
     "output_type": "execute_result"
    }
   ],
   "source": [
    "bs_output_RT.iloc[:,0]"
   ]
  },
  {
   "cell_type": "code",
   "execution_count": 45,
   "id": "f420e2dc",
   "metadata": {},
   "outputs": [
    {
     "data": {
      "text/plain": [
       "(array([  1.,   0.,   1.,  10.,  43.,  81., 165., 332., 496., 674., 744.,\n",
       "        751., 640., 474., 285., 183.,  87.,  22.,   7.,   4.]),\n",
       " array([-0.06582721, -0.05982062, -0.05381404, -0.04780745, -0.04180086,\n",
       "        -0.03579428, -0.02978769, -0.0237811 , -0.01777451, -0.01176793,\n",
       "        -0.00576134,  0.00024525,  0.00625183,  0.01225842,  0.01826501,\n",
       "         0.02427159,  0.03027818,  0.03628477,  0.04229136,  0.04829794,\n",
       "         0.05430453]),\n",
       " <BarContainer object of 20 artists>)"
      ]
     },
     "execution_count": 45,
     "metadata": {},
     "output_type": "execute_result"
    },
    {
     "data": {
      "image/png": "[encoded data removed]",
      "text/plain": [
       "<Figure size 864x360 with 2 Axes>"
      ]
     },
     "metadata": {
      "needs_background": "light"
     },
     "output_type": "display_data"
    }
   ],
   "source": [
    "\n",
    "test_OSR2_RT = OS_R_squared(y_pred_RT,y_CTR_test,y_CTR_train)\n",
    "\n",
    "fig, axs = plt.subplots(ncols=2, figsize=(12,5))\n",
    "axs[0].set_xlabel('Bootstrap OSR2 Estimate', fontsize=16)\n",
    "axs[1].set_xlabel('Boot OSR2 - Test Set OSR2', fontsize=16)\n",
    "axs[0].set_ylabel('Count', fontsize=16)\n",
    "axs[0].hist(bs_output_RT.iloc[:,0], bins=20,edgecolor='yellow', linewidth=2,color = \"orange\")\n",
    "# axs[0].set_xlim([0.4,0.7])\n",
    "#bias bootstrap\n",
    "axs[1].hist(bs_output_RT.iloc[:,0]-test_OSR2_RT, bins=20,edgecolor='green', linewidth=2,color = \"grey\")\n",
    "# axs[1].set_xlim([-0.15,0.15])"
   ]
  },
  {
   "cell_type": "code",
   "execution_count": 46,
   "id": "a04692f6",
   "metadata": {},
   "outputs": [
    {
     "name": "stdout",
     "output_type": "stream",
     "text": [
      "The 95-percent confidence interval of OSR2(DTR) is [-0.03036009  0.03005902]\n"
     ]
    }
   ],
   "source": [
    "# The 95% confidence interval\n",
    "CI= np.quantile(bs_output_RT.iloc[:,0]-test_OSR2_RT,np.array([0.025,0.975]))\n",
    "print(\"The 95-percent confidence interval of OSR2(DTR) is %s\" % CI)"
   ]
  },
  {
   "cell_type": "code",
   "execution_count": 47,
   "id": "c31b9663",
   "metadata": {},
   "outputs": [
    {
     "data": {
      "text/plain": [
       "0.17355506853260683"
      ]
     },
     "execution_count": 47,
     "metadata": {},
     "output_type": "execute_result"
    }
   ],
   "source": [
    "test_OSR2_RT"
   ]
  },
  {
   "cell_type": "code",
   "execution_count": 48,
   "id": "26253d6e",
   "metadata": {},
   "outputs": [
    {
     "data": {
      "text/plain": [
       "<matplotlib.collections.LineCollection at 0x11f0aae50>"
      ]
     },
     "execution_count": 48,
     "metadata": {},
     "output_type": "execute_result"
    },
    {
     "data": {
      "image/png": "[encoded data removed]",
      "text/plain": [
       "<Figure size 576x432 with 1 Axes>"
      ]
     },
     "metadata": {
      "needs_background": "light"
     },
     "output_type": "display_data"
    }
   ],
   "source": [
    "fig, axs = plt.subplots(ncols=1, figsize=(8,6))\n",
    "axs.set_xlabel('Boot OSR2 - Test Set OSR2', fontsize=16)\n",
    "axs.set_ylabel('Count', fontsize=16)\n",
    "axs.hist(bs_output_RT.iloc[:,0]-test_OSR2_RT, bins=20,edgecolor='purple', linewidth=2,color = \"pink\")\n",
    "axs.set_xlim([-0.15,0.15])\n",
    "axs.vlines(x=CI[0], ymin = 0, ymax =800, color = \"black\")\n",
    "axs.vlines(x=CI[1], ymin = 0, ymax =800, color = \"black\")"
   ]
  },
  {
   "cell_type": "code",
   "execution_count": 49,
   "id": "8ad81c7f",
   "metadata": {},
   "outputs": [],
   "source": [
    "test_mae_RT = mean_absolute_error(y_pred_RT,y_CTR_test,y_CTR_train)"
   ]
  },
  {
   "cell_type": "code",
   "execution_count": 50,
   "id": "a4232a82",
   "metadata": {},
   "outputs": [
    {
     "data": {
      "text/html": [
       "<div>\n",
       "<style scoped>\n",
       "    .dataframe tbody tr th:only-of-type {\n",
       "        vertical-align: middle;\n",
       "    }\n",
       "\n",
       "    .dataframe tbody tr th {\n",
       "        vertical-align: top;\n",
       "    }\n",
       "\n",
       "    .dataframe thead th {\n",
       "        text-align: right;\n",
       "    }\n",
       "</style>\n",
       "<table border=\"1\" class=\"dataframe\">\n",
       "  <thead>\n",
       "    <tr style=\"text-align: right;\">\n",
       "      <th></th>\n",
       "      <th>0</th>\n",
       "      <th>1</th>\n",
       "    </tr>\n",
       "  </thead>\n",
       "  <tbody>\n",
       "    <tr>\n",
       "      <th>0</th>\n",
       "      <td>0.184471</td>\n",
       "      <td>0.618161</td>\n",
       "    </tr>\n",
       "    <tr>\n",
       "      <th>1</th>\n",
       "      <td>0.172222</td>\n",
       "      <td>0.626406</td>\n",
       "    </tr>\n",
       "    <tr>\n",
       "      <th>2</th>\n",
       "      <td>0.170352</td>\n",
       "      <td>0.629122</td>\n",
       "    </tr>\n",
       "    <tr>\n",
       "      <th>3</th>\n",
       "      <td>0.182700</td>\n",
       "      <td>0.613968</td>\n",
       "    </tr>\n",
       "    <tr>\n",
       "      <th>4</th>\n",
       "      <td>0.186027</td>\n",
       "      <td>0.615637</td>\n",
       "    </tr>\n",
       "  </tbody>\n",
       "</table>\n",
       "</div>"
      ],
      "text/plain": [
       "          0         1\n",
       "0  0.184471  0.618161\n",
       "1  0.172222  0.626406\n",
       "2  0.170352  0.629122\n",
       "3  0.182700  0.613968\n",
       "4  0.186027  0.615637"
      ]
     },
     "execution_count": 50,
     "metadata": {},
     "output_type": "execute_result"
    }
   ],
   "source": [
    "bs_output_RT.head()"
   ]
  },
  {
   "cell_type": "code",
   "execution_count": 51,
   "id": "2b6eb428",
   "metadata": {},
   "outputs": [
    {
     "name": "stdout",
     "output_type": "stream",
     "text": [
      "The 95-percent confidence interval of MAE(DTR) is [-0.01873793  0.01835037]\n"
     ]
    }
   ],
   "source": [
    "CI= np.quantile(bs_output_RT.iloc[:,1]-test_mae_RT,np.array([0.025,0.975]))\n",
    "print(\"The 95-percent confidence interval of MAE(DTR) is %s\" % CI)"
   ]
  },
  {
   "cell_type": "code",
   "execution_count": 52,
   "id": "258c715c",
   "metadata": {},
   "outputs": [
    {
     "data": {
      "text/plain": [
       "<matplotlib.collections.LineCollection at 0x11f14e430>"
      ]
     },
     "execution_count": 52,
     "metadata": {},
     "output_type": "execute_result"
    },
    {
     "data": {
      "image/png": "[encoded data removed]",
      "text/plain": [
       "<Figure size 576x432 with 1 Axes>"
      ]
     },
     "metadata": {
      "needs_background": "light"
     },
     "output_type": "display_data"
    }
   ],
   "source": [
    "fig, axs = plt.subplots(ncols=1, figsize=(8,6))\n",
    "axs.set_xlabel('Boot MAE - Test Set MAE', fontsize=16)\n",
    "axs.set_ylabel('Count', fontsize=16)\n",
    "axs.hist(bs_output_RT.iloc[:,1]-test_mae_RT, bins=20,edgecolor='darkgreen', linewidth=2,color = \"yellow\")\n",
    "axs.set_xlim([-0.15,0.15])\n",
    "axs.vlines(x=CI[0], ymin = 0, ymax =800, color = \"black\")\n",
    "axs.vlines(x=CI[1], ymin = 0, ymax =800, color = \"black\")"
   ]
  },
  {
   "cell_type": "code",
   "execution_count": 53,
   "id": "4f7fba7a",
   "metadata": {},
   "outputs": [
    {
     "name": "stdout",
     "output_type": "stream",
     "text": [
      "(5000, 2)\n",
      "0 0.10888004302978516\n",
      "100 10.12617802619934\n",
      "200 20.10252094268799\n",
      "300 30.06063485145569\n",
      "400 40.011115074157715\n",
      "500 50.03531193733215\n",
      "600 59.97644591331482\n",
      "700 69.8761739730835\n",
      "800 79.73190498352051\n",
      "900 89.53635001182556\n",
      "1000 99.32868313789368\n",
      "1100 109.37726902961731\n",
      "1200 119.26540184020996\n",
      "1300 129.16320276260376\n",
      "1400 138.97920107841492\n",
      "1500 148.89024209976196\n",
      "1600 158.8434829711914\n",
      "1700 169.0300989151001\n",
      "1800 179.0958468914032\n",
      "1900 189.13037610054016\n",
      "2000 199.15464615821838\n",
      "2100 209.2746639251709\n",
      "2200 219.41733694076538\n",
      "2300 230.08168506622314\n",
      "2400 240.29112720489502\n",
      "2500 250.51802611351013\n",
      "2600 260.67908477783203\n",
      "2700 271.22101521492004\n",
      "2800 281.4320819377899\n",
      "2900 291.74376797676086\n",
      "3000 301.8890039920807\n",
      "3100 312.0627951622009\n",
      "3200 322.1873941421509\n",
      "3300 332.43808221817017\n",
      "3400 342.577917098999\n",
      "3500 352.7853469848633\n",
      "3600 362.9890058040619\n",
      "3700 373.1231369972229\n",
      "3800 383.1364760398865\n",
      "3900 393.2205572128296\n",
      "4000 405.1254348754883\n",
      "4100 446.8030731678009\n",
      "4200 1107.857889175415\n",
      "4300 1507.9055619239807\n",
      "4400 1636.7820670604706\n",
      "4500 1646.8266019821167\n",
      "4600 1656.6928429603577\n",
      "4700 1666.6849308013916\n",
      "4800 1676.48921084404\n",
      "4900 1686.4452188014984\n"
     ]
    }
   ],
   "source": [
    "#RandomForest -Confidence - intervals\n",
    "bs_output_RF = bootstrap_validation(x_RF_test,y_RF_test,y_RF_train,rf_cv,\n",
    "                                 metrics_list=[OS_R_squared,mean_absolute_error],\n",
    "                                 sample = 5000)"
   ]
  },
  {
   "cell_type": "code",
   "execution_count": 54,
   "id": "ffcf1809",
   "metadata": {},
   "outputs": [
    {
     "data": {
      "text/html": [
       "<div>\n",
       "<style scoped>\n",
       "    .dataframe tbody tr th:only-of-type {\n",
       "        vertical-align: middle;\n",
       "    }\n",
       "\n",
       "    .dataframe tbody tr th {\n",
       "        vertical-align: top;\n",
       "    }\n",
       "\n",
       "    .dataframe thead th {\n",
       "        text-align: right;\n",
       "    }\n",
       "</style>\n",
       "<table border=\"1\" class=\"dataframe\">\n",
       "  <thead>\n",
       "    <tr style=\"text-align: right;\">\n",
       "      <th></th>\n",
       "      <th>0</th>\n",
       "      <th>1</th>\n",
       "    </tr>\n",
       "  </thead>\n",
       "  <tbody>\n",
       "    <tr>\n",
       "      <th>0</th>\n",
       "      <td>0.227725</td>\n",
       "      <td>0.581628</td>\n",
       "    </tr>\n",
       "    <tr>\n",
       "      <th>1</th>\n",
       "      <td>0.215565</td>\n",
       "      <td>0.622905</td>\n",
       "    </tr>\n",
       "    <tr>\n",
       "      <th>2</th>\n",
       "      <td>0.229821</td>\n",
       "      <td>0.593684</td>\n",
       "    </tr>\n",
       "    <tr>\n",
       "      <th>3</th>\n",
       "      <td>0.217011</td>\n",
       "      <td>0.605108</td>\n",
       "    </tr>\n",
       "    <tr>\n",
       "      <th>4</th>\n",
       "      <td>0.230068</td>\n",
       "      <td>0.619182</td>\n",
       "    </tr>\n",
       "  </tbody>\n",
       "</table>\n",
       "</div>"
      ],
      "text/plain": [
       "          0         1\n",
       "0  0.227725  0.581628\n",
       "1  0.215565  0.622905\n",
       "2  0.229821  0.593684\n",
       "3  0.217011  0.605108\n",
       "4  0.230068  0.619182"
      ]
     },
     "execution_count": 54,
     "metadata": {},
     "output_type": "execute_result"
    }
   ],
   "source": [
    "bs_output_RF.head()"
   ]
  },
  {
   "cell_type": "code",
   "execution_count": 55,
   "id": "8167e7c8",
   "metadata": {},
   "outputs": [],
   "source": [
    "y_pred_RF=rf_cv.predict(x_RF_test)"
   ]
  },
  {
   "cell_type": "code",
   "execution_count": 56,
   "id": "8c7b433b",
   "metadata": {},
   "outputs": [],
   "source": [
    "test_OSR2_RF = OS_R_squared(y_pred_RF,y_RF_test,y_RF_train)"
   ]
  },
  {
   "cell_type": "code",
   "execution_count": 57,
   "id": "e82aa17f",
   "metadata": {},
   "outputs": [],
   "source": [
    "#OSR2"
   ]
  },
  {
   "cell_type": "code",
   "execution_count": 58,
   "id": "5f848d72",
   "metadata": {},
   "outputs": [
    {
     "name": "stdout",
     "output_type": "stream",
     "text": [
      "The 95-percent confidence interval of OSR2(RF) is [-0.02505521  0.02599038]\n"
     ]
    }
   ],
   "source": [
    "# The 95% confidence interval\n",
    "CI= np.quantile(bs_output_RF.iloc[:,0]-test_OSR2_RF,np.array([0.025,0.975]))\n",
    "print(\"The 95-percent confidence interval of OSR2(RF) is %s\" % CI)"
   ]
  },
  {
   "cell_type": "code",
   "execution_count": 59,
   "id": "3a04d7d4",
   "metadata": {},
   "outputs": [
    {
     "data": {
      "text/plain": [
       "<matplotlib.collections.LineCollection at 0x11e882190>"
      ]
     },
     "execution_count": 59,
     "metadata": {},
     "output_type": "execute_result"
    },
    {
     "data": {
      "image/png": "[encoded data removed]",
      "text/plain": [
       "<Figure size 576x432 with 1 Axes>"
      ]
     },
     "metadata": {
      "needs_background": "light"
     },
     "output_type": "display_data"
    }
   ],
   "source": [
    "fig, axs = plt.subplots(ncols=1, figsize=(8,6))\n",
    "axs.set_xlabel('Boot OSR2 - Test Set OSR2', fontsize=16)\n",
    "axs.set_ylabel('Count', fontsize=16)\n",
    "axs.hist(bs_output_RF.iloc[:,0]-test_OSR2_RF, bins=20,edgecolor='purple', linewidth=2,color = \"pink\")\n",
    "axs.set_xlim([-0.15,0.15])\n",
    "axs.vlines(x=CI[0], ymin = 0, ymax =800, color = \"black\")\n",
    "axs.vlines(x=CI[1], ymin = 0, ymax =800, color = \"black\")"
   ]
  },
  {
   "cell_type": "code",
   "execution_count": 60,
   "id": "71888dc1",
   "metadata": {},
   "outputs": [],
   "source": [
    "#MAE"
   ]
  },
  {
   "cell_type": "code",
   "execution_count": 61,
   "id": "8bcd4b77",
   "metadata": {},
   "outputs": [],
   "source": [
    "test_mae_RF = mean_absolute_error(y_pred_RF,y_RF_test,y_RF_train)"
   ]
  },
  {
   "cell_type": "code",
   "execution_count": 62,
   "id": "9a6c27a3",
   "metadata": {},
   "outputs": [
    {
     "name": "stdout",
     "output_type": "stream",
     "text": [
      "The 95-percent confidence interval of MAE is [-0.01722329  0.01733546]\n"
     ]
    }
   ],
   "source": [
    "CI= np.quantile(bs_output_RF.iloc[:,1]-test_mae_RF,np.array([0.025,0.975]))\n",
    "print(\"The 95-percent confidence interval of MAE is %s\" % CI)"
   ]
  },
  {
   "cell_type": "code",
   "execution_count": 63,
   "id": "c46f98e5",
   "metadata": {},
   "outputs": [
    {
     "data": {
      "text/plain": [
       "<matplotlib.collections.LineCollection at 0x11ecc5dc0>"
      ]
     },
     "execution_count": 63,
     "metadata": {},
     "output_type": "execute_result"
    },
    {
     "data": {
      "image/png": "[encoded data removed]",
      "text/plain": [
       "<Figure size 576x432 with 1 Axes>"
      ]
     },
     "metadata": {
      "needs_background": "light"
     },
     "output_type": "display_data"
    }
   ],
   "source": [
    "fig, axs = plt.subplots(ncols=1, figsize=(8,6))\n",
    "axs.set_xlabel('Boot MAE - Test Set MAE', fontsize=16)\n",
    "axs.set_ylabel('Count', fontsize=16)\n",
    "axs.hist(bs_output_RF.iloc[:,1]-test_mae_RF, bins=20,edgecolor='darkgreen', linewidth=2,color = \"yellow\")\n",
    "axs.set_xlim([-0.15,0.15])\n",
    "axs.vlines(x=CI[0], ymin = 0, ymax =800, color = \"black\")\n",
    "axs.vlines(x=CI[1], ymin = 0, ymax =800, color = \"black\")"
   ]
  },
  {
   "cell_type": "markdown",
   "id": "3d5bc87f",
   "metadata": {},
   "source": [
    "### difference in the performance?"
   ]
  },
  {
   "cell_type": "markdown",
   "id": "ee4e7256",
   "metadata": {},
   "source": [
    "We can also bootstrap the statistic OSR2 of random forest - OSR2 of decision tree classifier\n",
    "If the corresponding confidence interval contains 0, then there is \n",
    "no statistically significant difference between OSR2 values of the \n",
    "two methods\n",
    "\n",
    "We can also bootstrap the statistic MAE of random forest - MAE of decision tree classifier\n",
    "If the corresponding confidence interval contains 0, then there is \n",
    "no statistically significant difference between OSR2 values of the \n",
    "two methods\n"
   ]
  },
  {
   "cell_type": "code",
   "execution_count": 64,
   "id": "ed5df375",
   "metadata": {},
   "outputs": [
    {
     "name": "stdout",
     "output_type": "stream",
     "text": [
      "The 95-percent confidence interval of Difference in Model OR2 is [0.01016524 0.08878736]\n"
     ]
    }
   ],
   "source": [
    "#comparison of OSR2\n",
    "\n",
    "CI= np.quantile(bs_output_RF.iloc[:,0]-bs_output_RT.iloc[:,0],np.array([0.025,0.975]))\n",
    "print(\"The 95-percent confidence interval of Difference in Model OR2 is %s\" % CI)"
   ]
  },
  {
   "cell_type": "markdown",
   "id": "c765f480",
   "metadata": {},
   "source": [
    "Since the 95-percent confidence interval of Difference in Model OR2 of the two models is [0.00929701 0.08824708] and does not contain a zero, the OR2 is significant. <br>\n",
    "We can see that the std deviation of DecisionTreeRegressor is higher than that of Random forest.\n",
    "<br>\n",
    "<br>\n",
    "We have a better confidence interval for random forest which is closer to the mean.\n",
    "The 95-percent confidence interval of OSR2(RF) for Random Forest is [-0.02523559  0.02612551]\n",
    "For DecisionTreeRegressor,The 95-percent confidence interval of OSR2(DTR) is [-0.03036009  0.03005902]\n",
    "\n",
    "<br>"
   ]
  },
  {
   "cell_type": "code",
   "execution_count": 65,
   "id": "899120f6",
   "metadata": {},
   "outputs": [],
   "source": [
    " #MAE comparison"
   ]
  },
  {
   "cell_type": "code",
   "execution_count": 66,
   "id": "928432d7",
   "metadata": {},
   "outputs": [
    {
     "name": "stdout",
     "output_type": "stream",
     "text": [
      "The 95-percent confidence interval of Difference in Model MAE is [-0.04034413  0.01004864]\n"
     ]
    }
   ],
   "source": [
    "CI= np.quantile(bs_output_RF.iloc[:,1]-bs_output_RT.iloc[:,1],np.array([0.025,0.975]))\n",
    "print(\"The 95-percent confidence interval of Difference in Model MAE is %s\" % CI)"
   ]
  },
  {
   "cell_type": "markdown",
   "id": "cc397e52",
   "metadata": {},
   "source": [
    "Since the The 95-percent confidence interval of Difference in Model MAE is [-0.04046588  0.00995343].\n",
    "This interval contains a zero. This implies that these models are not statistically significant when it comes to MAE."
   ]
  }
 ],
 "metadata": {
  "kernelspec": {
   "display_name": "Python 3 (ipykernel)",
   "language": "python",
   "name": "python3"
  },
  "language_info": {
   "codemirror_mode": {
    "name": "ipython",
    "version": 3
   },
   "file_extension": ".py",
   "mimetype": "text/x-python",
   "name": "python",
   "nbconvert_exporter": "python",
   "pygments_lexer": "ipython3",
   "version": "3.9.13"
  }
 },
 "nbformat": 4,
 "nbformat_minor": 5
}
